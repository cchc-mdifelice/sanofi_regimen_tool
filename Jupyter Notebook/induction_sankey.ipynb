{
 "cells": [
  {
   "cell_type": "code",
   "execution_count": 302,
   "metadata": {},
   "outputs": [],
   "source": [
    "import plotly.graph_objects as go\n",
    "import pandas as pd\n",
    "import pandasql as pds\n",
    "import random"
   ]
  },
  {
   "cell_type": "code",
   "execution_count": 303,
   "metadata": {},
   "outputs": [
    {
     "data": {
      "text/html": [
       "<div>\n",
       "<style scoped>\n",
       "    .dataframe tbody tr th:only-of-type {\n",
       "        vertical-align: middle;\n",
       "    }\n",
       "\n",
       "    .dataframe tbody tr th {\n",
       "        vertical-align: top;\n",
       "    }\n",
       "\n",
       "    .dataframe thead th {\n",
       "        text-align: right;\n",
       "    }\n",
       "</style>\n",
       "<table border=\"1\" class=\"dataframe\">\n",
       "  <thead>\n",
       "    <tr style=\"text-align: right;\">\n",
       "      <th></th>\n",
       "      <th>Unnamed: 0</th>\n",
       "      <th>PatientID</th>\n",
       "      <th>LineNumber</th>\n",
       "      <th>Induction</th>\n",
       "      <th>Consolidation</th>\n",
       "      <th>Maintenance</th>\n",
       "      <th>NextLine_Number</th>\n",
       "      <th>nextline_start</th>\n",
       "      <th>nextline_reg</th>\n",
       "    </tr>\n",
       "  </thead>\n",
       "  <tbody>\n",
       "    <tr>\n",
       "      <th>0</th>\n",
       "      <td>0</td>\n",
       "      <td>F001E7DD3C229</td>\n",
       "      <td>1.0</td>\n",
       "      <td>Dexamethasone,Lenalidomide</td>\n",
       "      <td>No Consolidation</td>\n",
       "      <td>Lenalidomide</td>\n",
       "      <td>2.0</td>\n",
       "      <td>NaN</td>\n",
       "      <td>None</td>\n",
       "    </tr>\n",
       "    <tr>\n",
       "      <th>1</th>\n",
       "      <td>1</td>\n",
       "      <td>F001FEAEFA6AB</td>\n",
       "      <td>2.0</td>\n",
       "      <td>Clinical Study Drug,Lenalidomide</td>\n",
       "      <td>No Consolidation</td>\n",
       "      <td>Lenalidomide</td>\n",
       "      <td>3.0</td>\n",
       "      <td>2023-07-18</td>\n",
       "      <td>Daratumumab</td>\n",
       "    </tr>\n",
       "    <tr>\n",
       "      <th>2</th>\n",
       "      <td>2</td>\n",
       "      <td>F002651CEF65E</td>\n",
       "      <td>1.0</td>\n",
       "      <td>Lenalidomide</td>\n",
       "      <td>No Consolidation</td>\n",
       "      <td>Lenalidomide</td>\n",
       "      <td>2.0</td>\n",
       "      <td>2022-09-30</td>\n",
       "      <td>Carfilzomib,Daratumumab,Dexamethasone</td>\n",
       "    </tr>\n",
       "    <tr>\n",
       "      <th>3</th>\n",
       "      <td>3</td>\n",
       "      <td>F0056ED626E36</td>\n",
       "      <td>1.0</td>\n",
       "      <td>Bortezomib,Cyclophosphamide,Dexamethasone,Lena...</td>\n",
       "      <td>No Consolidation</td>\n",
       "      <td>None</td>\n",
       "      <td>2.0</td>\n",
       "      <td>NaN</td>\n",
       "      <td>None</td>\n",
       "    </tr>\n",
       "    <tr>\n",
       "      <th>4</th>\n",
       "      <td>4</td>\n",
       "      <td>F0057E24E0E55</td>\n",
       "      <td>1.0</td>\n",
       "      <td>Bortezomib,Dexamethasone,Lenalidomide</td>\n",
       "      <td>No Consolidation</td>\n",
       "      <td>Bortezomib</td>\n",
       "      <td>2.0</td>\n",
       "      <td>2020-09-03</td>\n",
       "      <td>Daratumumab,Dexamethasone,Pomalidomide</td>\n",
       "    </tr>\n",
       "  </tbody>\n",
       "</table>\n",
       "</div>"
      ],
      "text/plain": [
       "   Unnamed: 0      PatientID  LineNumber  \\\n",
       "0           0  F001E7DD3C229         1.0   \n",
       "1           1  F001FEAEFA6AB         2.0   \n",
       "2           2  F002651CEF65E         1.0   \n",
       "3           3  F0056ED626E36         1.0   \n",
       "4           4  F0057E24E0E55         1.0   \n",
       "\n",
       "                                           Induction     Consolidation  \\\n",
       "0                         Dexamethasone,Lenalidomide  No Consolidation   \n",
       "1                   Clinical Study Drug,Lenalidomide  No Consolidation   \n",
       "2                                       Lenalidomide  No Consolidation   \n",
       "3  Bortezomib,Cyclophosphamide,Dexamethasone,Lena...  No Consolidation   \n",
       "4              Bortezomib,Dexamethasone,Lenalidomide  No Consolidation   \n",
       "\n",
       "    Maintenance  NextLine_Number nextline_start  \\\n",
       "0  Lenalidomide              2.0            NaN   \n",
       "1  Lenalidomide              3.0     2023-07-18   \n",
       "2  Lenalidomide              2.0     2022-09-30   \n",
       "3          None              2.0            NaN   \n",
       "4    Bortezomib              2.0     2020-09-03   \n",
       "\n",
       "                             nextline_reg  \n",
       "0                                    None  \n",
       "1                             Daratumumab  \n",
       "2   Carfilzomib,Daratumumab,Dexamethasone  \n",
       "3                                    None  \n",
       "4  Daratumumab,Dexamethasone,Pomalidomide  "
      ]
     },
     "execution_count": 303,
     "metadata": {},
     "output_type": "execute_result"
    }
   ],
   "source": [
    "data = pd.read_csv(r\"C:\\Users\\MichaelDiFelice\\Downloads\\ind_cons_main_v2.csv\")\n",
    "\n",
    "data[['Maintenance', 'Induction', 'nextline_reg']] = data[['Maintenance', 'Induction', 'nextline_reg']].where(pd.notnull(data), 'None')\n",
    "\n",
    "data.head()"
   ]
  },
  {
   "cell_type": "code",
   "execution_count": 304,
   "metadata": {},
   "outputs": [],
   "source": [
    "# Function to apply SQL query using pandasql\n",
    "def pysqldf(q):\n",
    "    return pds.sqldf(q, globals())"
   ]
  },
  {
   "cell_type": "code",
   "execution_count": 305,
   "metadata": {},
   "outputs": [],
   "source": [
    "induction_sql = '''\n",
    "SELECT *,\n",
    "CASE\n",
    "    WHEN Induction LIKE '%Carfilzomib%,%Cyclophosphamide%,%Dexamethasone%,%Thalidomide%' THEN 'KCTd'\n",
    "    WHEN Induction LIKE '%Bortezomib%,%Daratumumab%,%Dexamethasone%,%Lenalidomide%' THEN 'DVRd'\n",
    "    WHEN Induction LIKE '%Carfilzomib%,%Dexamethasone%,%Lenalidomide%,%Pomalidomide%' THEN 'KPRd'\n",
    "    WHEN Induction LIKE '%Carfilzomib%,%Daratumumab%,%Dexamethasone%,%Lenalidomide%' THEN 'DKRd'\n",
    "    WHEN Induction LIKE '%Bortezomib%,%Daratumumab%,%Melphalan%,%Prednisone%' THEN 'DVMp'\n",
    "    WHEN Induction LIKE '%Bortezomib%,%Daratumumab%,%Dexamethasone%,%Thalidomide%' THEN 'DVTd'\n",
    "    WHEN Induction LIKE '%Bortezomib%,%Dexamethasone%,%Pomalidomide%' THEN 'PVd'\n",
    "    WHEN Induction LIKE '%Bortezomib%,%Daratumumab%,%Dexamethasone%' THEN 'DVd'\n",
    "    WHEN Induction LIKE '%Bortezomib%,%Dexamethasone%,%Lenalidomide%' THEN 'VRd'\n",
    "    WHEN Induction LIKE '%Daratumumab%,%Dexamethasone%,%Lenalidomide%' THEN 'DRd'\n",
    "    WHEN Induction LIKE '%Bortezomib%,%Cyclophosphamide%,%Dexamethasone%' THEN 'VCd'\n",
    "    WHEN Induction LIKE '%Dexamethasone%,%Ixazomib%,%Lenalidomide%' THEN 'IRd'\n",
    "    WHEN Induction LIKE '%Daratumumab%,%Dexamethasone%,%Pomalidomide%' THEN 'DPd'\n",
    "    WHEN Induction LIKE '%Carfilzomib%,%Dexamethasone%,%Lenalidomide%' THEN 'KRd'\n",
    "    WHEN Induction LIKE '%Carfilzomib%,%examethasone%,%Pomalidomide%' THEN 'KPd'\n",
    "    WHEN Induction LIKE '%Dexamethasone%,%Elotuzumab%,Pomalidomide%' THEN 'EPd'\n",
    "    WHEN Induction LIKE '%Carfilzomib%,%Daratumumab%,%Dexamethasone%' THEN 'DKd'\n",
    "    WHEN Induction LIKE '%Carfilzomib%,%Dexamethasone%,%Isatuximab-Irfc%' THEN 'IsaKd'\n",
    "    WHEN Induction LIKE '%Bortezomib%,%Dexamethasone%,%Thalidomide%' THEN 'VTd'\n",
    "    WHEN Induction LIKE '%Elotuzumab%,%Dexamethasone%,%Lenalidomide%' THEN 'ERd'\n",
    "    WHEN Induction LIKE '%Dexamethasone%,%Isatuximab-Irfc%,%Pomalidomide%' THEN 'IsaPd'\n",
    "    WHEN Induction LIKE '%Cyclophosphamide%,%Dexamethasone%,%Pomalidomide%' THEN 'PCd'\n",
    "    WHEN Induction LIKE '%Cyclophosphamide%,%Dexamethasone%' THEN 'Cd'\n",
    "    WHEN Induction LIKE '%Carfilzomib%,%Dexamethasone%' THEN 'Kd'\n",
    "    WHEN Induction LIKE '%Dexamethasone%,%Lenalidomide%' THEN 'Rd'\n",
    "    WHEN Induction LIKE '%Bortezomib%,%Dexamethasone%' THEN 'Vd'\n",
    "    WHEN Induction LIKE '%Bortezomib%,%Lenalidomide' THEN 'VR'\n",
    "    WHEN Induction LIKE '%Dexamethasone%,Pomalidomide%' THEN 'Pd'\n",
    "    WHEN Induction LIKE '%Daratumumab%,%Dexamethasone%' THEN 'Dd'\n",
    "    WHEN Induction LIKE '%Transplant%' THEN 'SCT'\n",
    "    WHEN Induction LIKE '%Daratumumab%' THEN 'D Mono'\n",
    "    WHEN Induction LIKE '%Ixazomib%' THEN 'Other Ixa'\n",
    "    WHEN Induction LIKE '%Isatuximab-Irfc%' THEN 'Other Isa'\n",
    "    WHEN Induction LIKE '%Ciltacabtagene Autoleucel%' THEN 'CAR-T'\n",
    "    WHEN Induction LIKE 'Bortezomib' THEN 'V mono'\n",
    "    WHEN Induction LIKE '%Selinexor%' THEN 'Selinexor'\n",
    "    WHEN Induction LIKE 'Lenalidomide' THEN 'R mono'\n",
    "    WHEN Induction LIKE 'Dexamethasone' THEN 'd mono'\n",
    "    WHEN Induction LIKE 'Carfilzomib' THEN 'K mono'\n",
    "    WHEN Induction LIKE 'Pomalidomide' THEN 'P mono'\n",
    "    WHEN Induction LIKE '%Cyclophosphamide%' THEN 'C mono'\n",
    "    WHEN Induction LIKE '%Clinical Study Drug%' THEN 'Clinical Study Drug'\n",
    "    WHEN Induction LIKE '%None%' THEN 'None'\n",
    "    ELSE 'Other'\n",
    "END AS induction_regimen\n",
    "FROM data;\n",
    "'''\n"
   ]
  },
  {
   "cell_type": "code",
   "execution_count": 306,
   "metadata": {},
   "outputs": [],
   "source": [
    "next_line_sql = '''\n",
    "SELECT *,\n",
    "CASE\n",
    "    WHEN nextline_reg LIKE '%Carfilzomib%,%Cyclophosphamide%,%Dexamethasone%,%Thalidomide%' THEN 'KCTd'\n",
    "    WHEN nextline_reg LIKE '%Bortezomib%,%Daratumumab%,%Dexamethasone%,%Lenalidomide%' THEN 'DVRd'\n",
    "    WHEN nextline_reg LIKE '%Carfilzomib%,%Dexamethasone%,%Lenalidomide%,%Pomalidomide%' THEN 'KPRd'\n",
    "    WHEN nextline_reg LIKE '%Carfilzomib%,%Daratumumab%,%Dexamethasone%,%Lenalidomide%' THEN 'DKRd'\n",
    "    WHEN nextline_reg LIKE '%Bortezomib%,%Daratumumab%,%Melphalan%,%Prednisone%' THEN 'DVMp'\n",
    "    WHEN nextline_reg LIKE '%Bortezomib%,%Daratumumab%,%Dexamethasone%,%Thalidomide%' THEN 'DVTd'\n",
    "    WHEN nextline_reg LIKE '%Bortezomib%,%Dexamethasone%,%Pomalidomide%' THEN 'PVd'\n",
    "    WHEN nextline_reg LIKE '%Bortezomib%,%Daratumumab%,%Dexamethasone%' THEN 'DVd'\n",
    "    WHEN nextline_reg LIKE '%Bortezomib%,%Daratumumab%,%Lenalidomide%' THEN 'DVR'\n",
    "    WHEN nextline_reg LIKE '%Bortezomib%,%Dexamethasone%,%Lenalidomide%' THEN 'VRd'\n",
    "    WHEN nextline_reg LIKE '%Daratumumab%,%Dexamethasone%,%Lenalidomide%' THEN 'DRd'\n",
    "    WHEN nextline_reg LIKE '%Bortezomib%,%Cyclophosphamide%,%Dexamethasone%' THEN 'VCd'\n",
    "    WHEN nextline_reg LIKE '%Dexamethasone%,%Ixazomib%,%Lenalidomide%' THEN 'IRd'\n",
    "    WHEN nextline_reg LIKE '%Daratumumab%,%Dexamethasone%,%Pomalidomide%' THEN 'DPd'\n",
    "    WHEN nextline_reg LIKE '%Carfilzomib%,%Dexamethasone%,%Lenalidomide%' THEN 'KRd'\n",
    "    WHEN nextline_reg LIKE '%Carfilzomib%,%examethasone%,%Pomalidomide%' THEN 'KPd'\n",
    "    WHEN nextline_reg LIKE '%Dexamethasone%,%Elotuzumab%,Pomalidomide%' THEN 'EPd'\n",
    "    WHEN nextline_reg LIKE '%Carfilzomib%,%Daratumumab%,%Dexamethasone%' THEN 'DKd'\n",
    "    WHEN nextline_reg LIKE '%Carfilzomib%,%Dexamethasone%,%Isatuximab-Irfc%' THEN 'IsaKd'\n",
    "    WHEN nextline_reg LIKE '%Bortezomib%,%Dexamethasone%,%Thalidomide%' THEN 'VTd'\n",
    "    WHEN nextline_reg LIKE '%Elotuzumab%,%Dexamethasone%,%Lenalidomide%' THEN 'ERd'\n",
    "    WHEN nextline_reg LIKE '%Dexamethasone%,%Isatuximab-Irfc%,%Pomalidomide%' THEN 'IsaPd'\n",
    "    WHEN nextline_reg LIKE '%Cyclophosphamide%,%Dexamethasone%,%Pomalidomide%' THEN 'PCd'\n",
    "    WHEN nextline_reg LIKE '%Cyclophosphamide%,%Dexamethasone%' THEN 'Cd'\n",
    "    WHEN nextline_reg LIKE '%Carfilzomib%,%Dexamethasone%' THEN 'Kd'\n",
    "    WHEN nextline_reg LIKE '%Dexamethasone%,%Lenalidomide%' THEN 'Rd'\n",
    "    WHEN nextline_reg LIKE '%Bortezomib%,%Dexamethasone%' THEN 'Vd'\n",
    "    WHEN nextline_reg LIKE '%Bortezomib%,%Lenalidomide' THEN 'VR'\n",
    "    WHEN nextline_reg LIKE '%Dexamethasone%,Pomalidomide%' THEN 'Pd'\n",
    "    WHEN nextline_reg LIKE '%Daratumumab%,%Dexamethasone%' THEN 'Dd'\n",
    "    WHEN nextline_reg LIKE '%Transplant%' THEN 'SCT'\n",
    "    WHEN nextline_reg LIKE '%Daratumumab%' THEN 'D Mono'\n",
    "    WHEN nextline_reg LIKE '%Ixazomib%' THEN 'Other Ixa'\n",
    "    WHEN nextline_reg LIKE '%Isatuximab-Irfc%' THEN 'Other Isa'\n",
    "    WHEN nextline_reg LIKE '%Ciltacabtagene Autoleucel%' THEN 'CAR-T'\n",
    "    WHEN nextline_reg LIKE 'Bortezomib' THEN 'V mono'\n",
    "    WHEN nextline_reg LIKE '%Selinexor%' THEN 'Selinexor'\n",
    "    WHEN nextline_reg LIKE 'Lenalidomide' THEN 'R mono'\n",
    "    WHEN nextline_reg LIKE 'Dexamethasone' THEN 'd mono'\n",
    "    WHEN nextline_reg LIKE 'Carfilzomib' THEN 'K mono'\n",
    "    WHEN nextline_reg LIKE 'Pomalidomide' THEN 'P mono'\n",
    "    WHEN nextline_reg LIKE '%Cyclophosphamide%' THEN 'C mono'\n",
    "    WHEN nextline_reg LIKE '%Clinical Study Drug%' THEN 'Clinical Study Drug'\n",
    "    WHEN nextline_reg LIKE '%None%' THEN 'None'\n",
    "    ELSE 'Other'\n",
    "END AS next_line_regimen\n",
    "FROM data;\n",
    "'''\n"
   ]
  },
  {
   "cell_type": "code",
   "execution_count": 307,
   "metadata": {},
   "outputs": [],
   "source": [
    "maintenance_sql = '''\n",
    "SELECT *,\n",
    "CASE\n",
    "    WHEN Maintenance LIKE '%Carfilzomib%,%Cyclophosphamide%,%Dexamethasone%,%Thalidomide%' THEN 'KCTd'\n",
    "    WHEN Maintenance LIKE '%Bortezomib%,%Daratumumab%,%Dexamethasone%,%Lenalidomide%' THEN 'DVRd'\n",
    "    WHEN Maintenance LIKE '%Carfilzomib%,%Dexamethasone%,%Lenalidomide%,%Pomalidomide%' THEN 'KPRd'\n",
    "    WHEN Maintenance LIKE '%Carfilzomib%,%Daratumumab%,%Dexamethasone%,%Lenalidomide%' THEN 'DKRd'\n",
    "    WHEN Maintenance LIKE '%Bortezomib%,%Daratumumab%,%Melphalan%,%Prednisone%' THEN 'DVMp'\n",
    "    WHEN Maintenance LIKE '%Bortezomib%,%Daratumumab%,%Dexamethasone%,%Thalidomide%' THEN 'DVTd'\n",
    "    WHEN Maintenance LIKE '%Bortezomib%,%Dexamethasone%,%Pomalidomide%' THEN 'PVd'\n",
    "    WHEN Maintenance LIKE '%Bortezomib%,%Daratumumab%,%Dexamethasone%' THEN 'DVd'\n",
    "    WHEN Maintenance LIKE '%Bortezomib%,%Dexamethasone%,%Lenalidomide%' THEN 'VRd'\n",
    "    WHEN Maintenance LIKE '%Daratumumab%,%Dexamethasone%,%Lenalidomide%' THEN 'DRd'\n",
    "    WHEN Maintenance LIKE '%Bortezomib%,%Cyclophosphamide%,%Dexamethasone%' THEN 'VCd'\n",
    "    WHEN Maintenance LIKE '%Dexamethasone%,%Ixazomib%,%Lenalidomide%' THEN 'IRd'\n",
    "    WHEN Maintenance LIKE '%Daratumumab%,%Dexamethasone%,%Pomalidomide%' THEN 'DPd'\n",
    "    WHEN Maintenance LIKE '%Carfilzomib%,%Dexamethasone%,%Lenalidomide%' THEN 'KRd'\n",
    "    WHEN Maintenance LIKE '%Carfilzomib%,%examethasone%,%Pomalidomide%' THEN 'KPd'\n",
    "    WHEN Maintenance LIKE '%Dexamethasone%,%Elotuzumab%,Pomalidomide%' THEN 'EPd'\n",
    "    WHEN Maintenance LIKE '%Carfilzomib%,%Daratumumab%,%Dexamethasone%' THEN 'DKd'\n",
    "    WHEN Maintenance LIKE '%Carfilzomib%,%Dexamethasone%,%Isatuximab-Irfc%' THEN 'IsaKd'\n",
    "    WHEN Maintenance LIKE '%Bortezomib%,%Dexamethasone%,%Thalidomide%' THEN 'VTd'\n",
    "    WHEN Maintenance LIKE '%Elotuzumab%,%Dexamethasone%,%Lenalidomide%' THEN 'ERd'\n",
    "    WHEN Maintenance LIKE '%Dexamethasone%,%Isatuximab-Irfc%,%Pomalidomide%' THEN 'IsaPd'\n",
    "    WHEN Maintenance LIKE '%Cyclophosphamide%,%Dexamethasone%,%Pomalidomide%' THEN 'PCd'\n",
    "    WHEN Maintenance LIKE '%Cyclophosphamide%,%Dexamethasone%' THEN 'Cd'\n",
    "    WHEN Maintenance LIKE '%Carfilzomib%,%Dexamethasone%' THEN 'Kd'\n",
    "    WHEN Maintenance LIKE '%Dexamethasone%,%Lenalidomide%' THEN 'Rd'\n",
    "    WHEN Maintenance LIKE '%Bortezomib%,%Dexamethasone%' THEN 'Vd'\n",
    "    WHEN Maintenance LIKE '%Bortezomib%,%Lenalidomide' THEN 'VR'\n",
    "    WHEN Maintenance LIKE '%Dexamethasone%,Pomalidomide%' THEN 'Pd'\n",
    "    WHEN Maintenance LIKE '%Daratumumab%,%Dexamethasone%' THEN 'Dd'\n",
    "    WHEN Maintenance LIKE '%Transplant%' THEN 'SCT'\n",
    "    WHEN Maintenance LIKE '%Daratumumab%' THEN 'D Mono'\n",
    "    WHEN Maintenance LIKE '%Ixazomib%' THEN 'Other Ixa'\n",
    "    WHEN Maintenance LIKE '%Isatuximab-Irfc%' THEN 'Other Isa'\n",
    "    WHEN Maintenance LIKE '%Ciltacabtagene Autoleucel%' THEN 'CAR-T'\n",
    "    WHEN Maintenance LIKE 'Bortezomib' THEN 'V mono'\n",
    "    WHEN Maintenance LIKE '%Selinexor%' THEN 'Selinexor'\n",
    "    WHEN Maintenance LIKE 'Lenalidomide' THEN 'R mono'\n",
    "    WHEN Maintenance LIKE 'Dexamethasone' THEN 'd mono'\n",
    "    WHEN Maintenance LIKE 'Carfilzomib' THEN 'K mono'\n",
    "    WHEN Maintenance LIKE 'Pomalidomide' THEN 'P mono'\n",
    "    WHEN Maintenance LIKE '%Cyclophosphamide%' THEN 'C mono'\n",
    "    WHEN Maintenance LIKE '%Clinical Study Drug%' THEN 'Clinical Study Drug'\n",
    "    WHEN Maintenance LIKE '%None%' THEN 'None'\n",
    "    ELSE 'Other'\n",
    "END AS maintenance_regimen\n",
    "FROM data;\n",
    "'''"
   ]
  },
  {
   "cell_type": "code",
   "execution_count": 308,
   "metadata": {},
   "outputs": [],
   "source": [
    "#  Figure out how to deal with NULL Values\n",
    "\n",
    "data = pds.sqldf(maintenance_sql, locals())\n",
    "data = pds.sqldf(next_line_sql, locals())\n",
    "data = pds.sqldf(induction_sql, locals())\n",
    "\n",
    "\n",
    "data.dropna(subset=['nextline_reg'], inplace=True)\n",
    "# data = data.drop(columns=['induction_regimen'])\n"
   ]
  },
  {
   "cell_type": "code",
   "execution_count": 309,
   "metadata": {},
   "outputs": [
    {
     "data": {
      "text/html": [
       "<div>\n",
       "<style scoped>\n",
       "    .dataframe tbody tr th:only-of-type {\n",
       "        vertical-align: middle;\n",
       "    }\n",
       "\n",
       "    .dataframe tbody tr th {\n",
       "        vertical-align: top;\n",
       "    }\n",
       "\n",
       "    .dataframe thead th {\n",
       "        text-align: right;\n",
       "    }\n",
       "</style>\n",
       "<table border=\"1\" class=\"dataframe\">\n",
       "  <thead>\n",
       "    <tr style=\"text-align: right;\">\n",
       "      <th></th>\n",
       "      <th>Unnamed: 0</th>\n",
       "      <th>PatientID</th>\n",
       "      <th>LineNumber</th>\n",
       "      <th>Induction</th>\n",
       "      <th>Consolidation</th>\n",
       "      <th>Maintenance</th>\n",
       "      <th>NextLine_Number</th>\n",
       "      <th>nextline_start</th>\n",
       "      <th>nextline_reg</th>\n",
       "      <th>maintenance_regimen</th>\n",
       "      <th>next_line_regimen</th>\n",
       "      <th>induction_regimen</th>\n",
       "    </tr>\n",
       "  </thead>\n",
       "  <tbody>\n",
       "    <tr>\n",
       "      <th>0</th>\n",
       "      <td>0</td>\n",
       "      <td>F001E7DD3C229</td>\n",
       "      <td>1.0</td>\n",
       "      <td>Dexamethasone,Lenalidomide</td>\n",
       "      <td>No Consolidation</td>\n",
       "      <td>Lenalidomide</td>\n",
       "      <td>2.0</td>\n",
       "      <td>None</td>\n",
       "      <td>None</td>\n",
       "      <td>R mono</td>\n",
       "      <td>None</td>\n",
       "      <td>Rd</td>\n",
       "    </tr>\n",
       "    <tr>\n",
       "      <th>1</th>\n",
       "      <td>1</td>\n",
       "      <td>F001FEAEFA6AB</td>\n",
       "      <td>2.0</td>\n",
       "      <td>Clinical Study Drug,Lenalidomide</td>\n",
       "      <td>No Consolidation</td>\n",
       "      <td>Lenalidomide</td>\n",
       "      <td>3.0</td>\n",
       "      <td>2023-07-18</td>\n",
       "      <td>Daratumumab</td>\n",
       "      <td>R mono</td>\n",
       "      <td>D Mono</td>\n",
       "      <td>Clinical Study Drug</td>\n",
       "    </tr>\n",
       "    <tr>\n",
       "      <th>2</th>\n",
       "      <td>2</td>\n",
       "      <td>F002651CEF65E</td>\n",
       "      <td>1.0</td>\n",
       "      <td>Lenalidomide</td>\n",
       "      <td>No Consolidation</td>\n",
       "      <td>Lenalidomide</td>\n",
       "      <td>2.0</td>\n",
       "      <td>2022-09-30</td>\n",
       "      <td>Carfilzomib,Daratumumab,Dexamethasone</td>\n",
       "      <td>R mono</td>\n",
       "      <td>DKd</td>\n",
       "      <td>R mono</td>\n",
       "    </tr>\n",
       "    <tr>\n",
       "      <th>3</th>\n",
       "      <td>3</td>\n",
       "      <td>F0056ED626E36</td>\n",
       "      <td>1.0</td>\n",
       "      <td>Bortezomib,Cyclophosphamide,Dexamethasone,Lena...</td>\n",
       "      <td>No Consolidation</td>\n",
       "      <td>None</td>\n",
       "      <td>2.0</td>\n",
       "      <td>None</td>\n",
       "      <td>None</td>\n",
       "      <td>None</td>\n",
       "      <td>None</td>\n",
       "      <td>VRd</td>\n",
       "    </tr>\n",
       "    <tr>\n",
       "      <th>4</th>\n",
       "      <td>4</td>\n",
       "      <td>F0057E24E0E55</td>\n",
       "      <td>1.0</td>\n",
       "      <td>Bortezomib,Dexamethasone,Lenalidomide</td>\n",
       "      <td>No Consolidation</td>\n",
       "      <td>Bortezomib</td>\n",
       "      <td>2.0</td>\n",
       "      <td>2020-09-03</td>\n",
       "      <td>Daratumumab,Dexamethasone,Pomalidomide</td>\n",
       "      <td>V mono</td>\n",
       "      <td>DPd</td>\n",
       "      <td>VRd</td>\n",
       "    </tr>\n",
       "  </tbody>\n",
       "</table>\n",
       "</div>"
      ],
      "text/plain": [
       "   Unnamed: 0      PatientID  LineNumber  \\\n",
       "0           0  F001E7DD3C229         1.0   \n",
       "1           1  F001FEAEFA6AB         2.0   \n",
       "2           2  F002651CEF65E         1.0   \n",
       "3           3  F0056ED626E36         1.0   \n",
       "4           4  F0057E24E0E55         1.0   \n",
       "\n",
       "                                           Induction     Consolidation  \\\n",
       "0                         Dexamethasone,Lenalidomide  No Consolidation   \n",
       "1                   Clinical Study Drug,Lenalidomide  No Consolidation   \n",
       "2                                       Lenalidomide  No Consolidation   \n",
       "3  Bortezomib,Cyclophosphamide,Dexamethasone,Lena...  No Consolidation   \n",
       "4              Bortezomib,Dexamethasone,Lenalidomide  No Consolidation   \n",
       "\n",
       "    Maintenance  NextLine_Number nextline_start  \\\n",
       "0  Lenalidomide              2.0           None   \n",
       "1  Lenalidomide              3.0     2023-07-18   \n",
       "2  Lenalidomide              2.0     2022-09-30   \n",
       "3          None              2.0           None   \n",
       "4    Bortezomib              2.0     2020-09-03   \n",
       "\n",
       "                             nextline_reg maintenance_regimen  \\\n",
       "0                                    None              R mono   \n",
       "1                             Daratumumab              R mono   \n",
       "2   Carfilzomib,Daratumumab,Dexamethasone              R mono   \n",
       "3                                    None                None   \n",
       "4  Daratumumab,Dexamethasone,Pomalidomide              V mono   \n",
       "\n",
       "  next_line_regimen    induction_regimen  \n",
       "0              None                   Rd  \n",
       "1            D Mono  Clinical Study Drug  \n",
       "2               DKd               R mono  \n",
       "3              None                  VRd  \n",
       "4               DPd                  VRd  "
      ]
     },
     "execution_count": 309,
     "metadata": {},
     "output_type": "execute_result"
    }
   ],
   "source": [
    "data.head()"
   ]
  },
  {
   "cell_type": "code",
   "execution_count": 310,
   "metadata": {},
   "outputs": [],
   "source": [
    "data = data[(data['nextline_start'] > '2022-08-01') & (data['NextLine_Number'] == 2)]\n"
   ]
  },
  {
   "cell_type": "markdown",
   "metadata": {},
   "source": []
  },
  {
   "cell_type": "code",
   "execution_count": 311,
   "metadata": {},
   "outputs": [],
   "source": [
    "data = data[data['nextline_reg'].str.contains('Daratumumab') | data['nextline_reg'].str.contains('Isatuximab-Irfc')]\n"
   ]
  },
  {
   "cell_type": "code",
   "execution_count": 312,
   "metadata": {},
   "outputs": [],
   "source": [
    "def bundle_regimen(row,column,line):\n",
    "    # Line-based conditions\n",
    "    if row[line] == 1:\n",
    "        # Transplant and regimen conditions within Line 1\n",
    "        if row[column] == \"DVRd\":\n",
    "            return \"DVRd\"\n",
    "        elif row[column] == \"DVTd\":\n",
    "            return \"DVTd\"\n",
    "        elif row[column] == \"VCd\":\n",
    "            return \"VCd\"\n",
    "        elif row[column] in [\"VRd\", \"VR\", \"Vd\",]:\n",
    "            return \"VRd\"\n",
    "        elif row[column] in ['D mono','DKd','DKRd','DPd','DVd','DVMp','DVTd','Other D']:\n",
    "            return \"D-other\"\n",
    "\n",
    "    elif row[line] == 2:\n",
    "        # Transplant and regimen conditions within Line 2\n",
    "        if row[column] in ['D mono','DKRd','DVMp','DVRd','DVTd','Other D']:\n",
    "            return \"D-other\"\n",
    "        elif row[column] == \"DKd\":\n",
    "            return \"DKd\"\n",
    "        elif row[column] == \"DPd\":\n",
    "            return \"DPd\"\n",
    "        elif row[column] == \"DRd\":\n",
    "            return \"DRd\"\n",
    "        elif row[column] == \"DVd\":\n",
    "            return \"DVd\"\n",
    "        elif row[column] == \"IsaKd\":\n",
    "            return \"IsaKd\"\n",
    "        elif row[column] == \"IsaPd\":\n",
    "            return \"IsaPd\"\n",
    "        elif row[column] == 'Rd':\n",
    "            return 'Rd'\n",
    "        elif row[column] in ['ERd','IRd','KRd','VRd']:\n",
    "            return 'R-Triplet'\n",
    "    elif row[line] == 3:\n",
    "        # Transplant and regimen conditions within Line 2\n",
    "        if row[column] in ['D mono','DKRd','DVMp','DVRd','DVTd','Other D']:\n",
    "            return \"D-other\"\n",
    "        elif row[column] == \"DKd\":\n",
    "            return \"DKd\"\n",
    "        elif row[column] == \"DPd\":\n",
    "            return \"DPd\"\n",
    "        elif row[column] == \"DRd\":\n",
    "            return \"DRd\"\n",
    "        elif row[column] == \"DVd\":\n",
    "            return \"DVd\"\n",
    "        elif row[column] == \"IsaKd\":\n",
    "            return \"IsaKd\"\n",
    "        elif row[column] == \"IsaPd\":\n",
    "            return \"IsaPd\"\n",
    "        elif row[column] == 'Rd':\n",
    "            return 'Rd'\n",
    "        elif row[column] in ['ERd','IRd','KRd','VRd']:\n",
    "            return 'R-Triplet'\n",
    "\n",
    "\n",
    "    # Default return value if none of the conditions are met\n",
    "    return \"Other\"\n",
    "\n",
    "\n"
   ]
  },
  {
   "cell_type": "code",
   "execution_count": 313,
   "metadata": {},
   "outputs": [
    {
     "data": {
      "text/html": [
       "<div>\n",
       "<style scoped>\n",
       "    .dataframe tbody tr th:only-of-type {\n",
       "        vertical-align: middle;\n",
       "    }\n",
       "\n",
       "    .dataframe tbody tr th {\n",
       "        vertical-align: top;\n",
       "    }\n",
       "\n",
       "    .dataframe thead th {\n",
       "        text-align: right;\n",
       "    }\n",
       "</style>\n",
       "<table border=\"1\" class=\"dataframe\">\n",
       "  <thead>\n",
       "    <tr style=\"text-align: right;\">\n",
       "      <th></th>\n",
       "      <th>Unnamed: 0</th>\n",
       "      <th>PatientID</th>\n",
       "      <th>LineNumber</th>\n",
       "      <th>Induction</th>\n",
       "      <th>Consolidation</th>\n",
       "      <th>Maintenance</th>\n",
       "      <th>NextLine_Number</th>\n",
       "      <th>nextline_start</th>\n",
       "      <th>nextline_reg</th>\n",
       "      <th>maintenance_regimen</th>\n",
       "      <th>next_line_regimen</th>\n",
       "      <th>induction_regimen</th>\n",
       "    </tr>\n",
       "  </thead>\n",
       "  <tbody>\n",
       "    <tr>\n",
       "      <th>2</th>\n",
       "      <td>2</td>\n",
       "      <td>F002651CEF65E</td>\n",
       "      <td>1.0</td>\n",
       "      <td>Lenalidomide</td>\n",
       "      <td>No Consolidation</td>\n",
       "      <td>Lenalidomide</td>\n",
       "      <td>2.0</td>\n",
       "      <td>2022-09-30</td>\n",
       "      <td>Carfilzomib,Daratumumab,Dexamethasone</td>\n",
       "      <td>R mono</td>\n",
       "      <td>DKd</td>\n",
       "      <td>R mono</td>\n",
       "    </tr>\n",
       "    <tr>\n",
       "      <th>35</th>\n",
       "      <td>35</td>\n",
       "      <td>F027680413E60</td>\n",
       "      <td>1.0</td>\n",
       "      <td>Bortezomib,Dexamethasone,Lenalidomide</td>\n",
       "      <td>No Consolidation</td>\n",
       "      <td>Lenalidomide</td>\n",
       "      <td>2.0</td>\n",
       "      <td>2023-01-17</td>\n",
       "      <td>Daratumumab,Dexamethasone,Pomalidomide</td>\n",
       "      <td>R mono</td>\n",
       "      <td>DPd</td>\n",
       "      <td>VRd</td>\n",
       "    </tr>\n",
       "    <tr>\n",
       "      <th>59</th>\n",
       "      <td>59</td>\n",
       "      <td>F04374188F8E8</td>\n",
       "      <td>1.0</td>\n",
       "      <td>Bortezomib,Dexamethasone,Lenalidomide</td>\n",
       "      <td>No Consolidation</td>\n",
       "      <td>Lenalidomide</td>\n",
       "      <td>2.0</td>\n",
       "      <td>2022-11-17</td>\n",
       "      <td>Daratumumab,Dexamethasone,Pomalidomide</td>\n",
       "      <td>R mono</td>\n",
       "      <td>DPd</td>\n",
       "      <td>VRd</td>\n",
       "    </tr>\n",
       "    <tr>\n",
       "      <th>63</th>\n",
       "      <td>63</td>\n",
       "      <td>F0495AD1C46B7</td>\n",
       "      <td>1.0</td>\n",
       "      <td>Bortezomib,Dexamethasone,Lenalidomide</td>\n",
       "      <td>No Consolidation</td>\n",
       "      <td>Lenalidomide</td>\n",
       "      <td>2.0</td>\n",
       "      <td>2022-08-24</td>\n",
       "      <td>Azacitidine,Carfilzomib,Daratumumab,Dexamethasone</td>\n",
       "      <td>R mono</td>\n",
       "      <td>DKd</td>\n",
       "      <td>VRd</td>\n",
       "    </tr>\n",
       "    <tr>\n",
       "      <th>138</th>\n",
       "      <td>138</td>\n",
       "      <td>F0BF76C2F2769</td>\n",
       "      <td>1.0</td>\n",
       "      <td>Bortezomib,Dexamethasone,Lenalidomide</td>\n",
       "      <td>No Consolidation</td>\n",
       "      <td>Lenalidomide</td>\n",
       "      <td>2.0</td>\n",
       "      <td>2022-08-26</td>\n",
       "      <td>Carfilzomib,Daratumumab,Dexamethasone</td>\n",
       "      <td>R mono</td>\n",
       "      <td>DKd</td>\n",
       "      <td>VRd</td>\n",
       "    </tr>\n",
       "  </tbody>\n",
       "</table>\n",
       "</div>"
      ],
      "text/plain": [
       "     Unnamed: 0      PatientID  LineNumber  \\\n",
       "2             2  F002651CEF65E         1.0   \n",
       "35           35  F027680413E60         1.0   \n",
       "59           59  F04374188F8E8         1.0   \n",
       "63           63  F0495AD1C46B7         1.0   \n",
       "138         138  F0BF76C2F2769         1.0   \n",
       "\n",
       "                                 Induction     Consolidation   Maintenance  \\\n",
       "2                             Lenalidomide  No Consolidation  Lenalidomide   \n",
       "35   Bortezomib,Dexamethasone,Lenalidomide  No Consolidation  Lenalidomide   \n",
       "59   Bortezomib,Dexamethasone,Lenalidomide  No Consolidation  Lenalidomide   \n",
       "63   Bortezomib,Dexamethasone,Lenalidomide  No Consolidation  Lenalidomide   \n",
       "138  Bortezomib,Dexamethasone,Lenalidomide  No Consolidation  Lenalidomide   \n",
       "\n",
       "     NextLine_Number nextline_start  \\\n",
       "2                2.0     2022-09-30   \n",
       "35               2.0     2023-01-17   \n",
       "59               2.0     2022-11-17   \n",
       "63               2.0     2022-08-24   \n",
       "138              2.0     2022-08-26   \n",
       "\n",
       "                                          nextline_reg maintenance_regimen  \\\n",
       "2                Carfilzomib,Daratumumab,Dexamethasone              R mono   \n",
       "35              Daratumumab,Dexamethasone,Pomalidomide              R mono   \n",
       "59              Daratumumab,Dexamethasone,Pomalidomide              R mono   \n",
       "63   Azacitidine,Carfilzomib,Daratumumab,Dexamethasone              R mono   \n",
       "138              Carfilzomib,Daratumumab,Dexamethasone              R mono   \n",
       "\n",
       "    next_line_regimen induction_regimen  \n",
       "2                 DKd            R mono  \n",
       "35                DPd               VRd  \n",
       "59                DPd               VRd  \n",
       "63                DKd               VRd  \n",
       "138               DKd               VRd  "
      ]
     },
     "execution_count": 313,
     "metadata": {},
     "output_type": "execute_result"
    }
   ],
   "source": [
    "data.head()"
   ]
  },
  {
   "cell_type": "code",
   "execution_count": 314,
   "metadata": {},
   "outputs": [],
   "source": [
    "data['induction_regimen'] = data.apply(bundle_regimen,args=('induction_regimen','LineNumber',), axis=1)\n",
    "data['next_line_regimen'] = data.apply(bundle_regimen,args=('next_line_regimen','NextLine_Number',), axis=1)"
   ]
  },
  {
   "cell_type": "code",
   "execution_count": 343,
   "metadata": {},
   "outputs": [
    {
     "data": {
      "application/vnd.plotly.v1+json": {
       "config": {
        "plotlyServerURL": "https://plot.ly"
       },
       "data": [
        {
         "link": {
          "color": [
           "rgba(97, 66, 36, 1)",
           "rgba(75, 60, 223, 1)",
           "rgba(75, 60, 223, 1)",
           "rgba(75, 60, 223, 1)",
           "rgba(75, 60, 223, 1)",
           "rgba(75, 60, 223, 1)",
           "rgba(75, 60, 223, 1)",
           "rgba(75, 60, 223, 1)",
           "rgba(75, 60, 223, 1)",
           "rgba(49, 153, 221, 1)",
           "rgba(49, 153, 221, 1)",
           "rgba(49, 153, 221, 1)",
           "rgba(49, 153, 221, 1)",
           "rgba(49, 153, 221, 1)",
           "rgba(49, 153, 221, 1)",
           "rgba(49, 153, 221, 1)",
           "rgba(49, 153, 221, 1)",
           "rgba(111, 225, 47, 1)",
           "rgba(111, 225, 47, 1)",
           "rgba(160, 5, 248, 1)",
           "rgba(160, 5, 248, 1)",
           "rgba(160, 5, 248, 1)",
           "rgba(160, 5, 248, 1)",
           "rgba(160, 5, 248, 1)",
           "rgba(160, 5, 248, 1)",
           "rgba(160, 5, 248, 1)",
           "rgba(160, 5, 248, 1)",
           "rgba(160, 5, 248, 1)",
           "rgba(160, 5, 248, 1)",
           "rgba(160, 5, 248, 1)",
           "rgba(160, 5, 248, 1)",
           "rgba(160, 5, 248, 1)",
           "rgba(160, 5, 248, 1)",
           "rgba(160, 5, 248, 1)",
           "rgba(160, 5, 248, 1)",
           "rgba(160, 5, 248, 1)",
           "rgba(160, 5, 248, 1)",
           "rgba(160, 5, 248, 1)",
           "rgba(160, 5, 248, 1)",
           "rgba(160, 5, 248, 1)",
           "rgba(160, 5, 248, 1)",
           "rgba(160, 5, 248, 1)",
           "rgba(160, 5, 248, 1)",
           "rgba(160, 5, 248, 1)",
           "rgba(160, 5, 248, 1)",
           "rgba(160, 5, 248, 1)",
           "rgba(104, 131, 83, 1)",
           "rgba(104, 131, 83, 1)",
           "rgba(67, 226, 87, 1)",
           "rgba(104, 131, 83, 1)",
           "rgba(104, 131, 83, 1)",
           "rgba(190, 211, 13, 1)",
           "rgba(190, 211, 13, 1)",
           "rgba(144, 212, 110, 1)",
           "rgba(207, 180, 79, 1)",
           "rgba(104, 131, 83, 1)",
           "rgba(104, 131, 83, 1)",
           "rgba(39, 63, 70, 1)",
           "rgba(104, 131, 83, 1)",
           "rgba(104, 131, 83, 1)",
           "rgba(190, 211, 13, 1)",
           "rgba(190, 211, 13, 1)",
           "rgba(144, 212, 110, 1)",
           "rgba(190, 211, 13, 1)",
           "rgba(144, 212, 110, 1)",
           "rgba(104, 131, 83, 1)",
           "rgba(104, 131, 83, 1)",
           "rgba(144, 212, 110, 1)",
           "rgba(104, 131, 83, 1)",
           "rgba(104, 131, 83, 1)",
           "rgba(104, 131, 83, 1)",
           "rgba(104, 131, 83, 1)",
           "rgba(190, 211, 13, 1)",
           "rgba(190, 211, 13, 1)",
           "rgba(190, 211, 13, 1)",
           "rgba(190, 211, 13, 1)",
           "rgba(190, 211, 13, 1)",
           "rgba(190, 211, 13, 1)",
           "rgba(190, 211, 13, 1)",
           "rgba(250, 110, 197, 1)",
           "rgba(250, 110, 197, 1)",
           "rgba(250, 110, 197, 1)",
           "rgba(144, 212, 110, 1)",
           "rgba(144, 212, 110, 1)",
           "rgba(144, 212, 110, 1)",
           "rgba(207, 180, 79, 1)",
           "rgba(207, 180, 79, 1)",
           "rgba(207, 180, 79, 1)",
           "rgba(207, 180, 79, 1)",
           "rgba(160, 5, 248, 1)",
           "rgba(160, 5, 248, 1)",
           "rgba(229, 29, 50, 1)"
          ],
          "source": [
           0,
           2,
           2,
           2,
           2,
           2,
           2,
           2,
           2,
           7,
           7,
           7,
           7,
           7,
           7,
           7,
           7,
           9,
           9,
           10,
           10,
           10,
           10,
           10,
           10,
           10,
           10,
           10,
           10,
           10,
           10,
           10,
           10,
           10,
           10,
           10,
           10,
           10,
           10,
           10,
           10,
           10,
           10,
           10,
           10,
           10,
           1,
           1,
           3,
           1,
           1,
           4,
           4,
           5,
           6,
           1,
           1,
           8,
           1,
           1,
           4,
           4,
           5,
           4,
           5,
           1,
           1,
           5,
           1,
           1,
           1,
           1,
           4,
           4,
           4,
           4,
           4,
           4,
           4,
           11,
           11,
           11,
           5,
           5,
           5,
           6,
           6,
           6,
           6,
           12,
           12,
           13
          ],
          "target": [
           1,
           1,
           3,
           1,
           1,
           4,
           4,
           5,
           6,
           1,
           1,
           8,
           1,
           1,
           4,
           4,
           5,
           4,
           5,
           1,
           1,
           5,
           1,
           1,
           1,
           1,
           4,
           4,
           4,
           4,
           4,
           4,
           4,
           11,
           11,
           11,
           5,
           5,
           5,
           6,
           6,
           6,
           6,
           12,
           12,
           13,
           14,
           15,
           15,
           16,
           17,
           15,
           17,
           15,
           17,
           18,
           19,
           19,
           15,
           19,
           18,
           15,
           19,
           19,
           14,
           18,
           19,
           15,
           16,
           18,
           19,
           17,
           16,
           18,
           15,
           19,
           14,
           20,
           17,
           15,
           14,
           17,
           18,
           15,
           19,
           16,
           18,
           14,
           20,
           15,
           17,
           17
          ],
          "value": [
           1,
           1,
           2,
           1,
           1,
           1,
           1,
           1,
           1,
           1,
           1,
           2,
           1,
           3,
           1,
           1,
           1,
           1,
           1,
           1,
           1,
           1,
           1,
           2,
           1,
           2,
           3,
           6,
           10,
           2,
           2,
           1,
           3,
           1,
           1,
           4,
           1,
           1,
           1,
           1,
           1,
           1,
           1,
           1,
           1,
           1,
           1,
           1,
           2,
           1,
           1,
           1,
           1,
           1,
           1,
           1,
           1,
           2,
           1,
           3,
           1,
           1,
           1,
           1,
           1,
           1,
           1,
           1,
           1,
           2,
           1,
           2,
           3,
           6,
           10,
           2,
           2,
           1,
           3,
           1,
           1,
           4,
           1,
           1,
           1,
           1,
           1,
           1,
           1,
           1,
           1,
           1
          ]
         },
         "node": {
          "color": [
           "rgba(97, 66, 36, 1)",
           "rgba(104, 131, 83, 1)",
           "rgba(75, 60, 223, 1)",
           "rgba(67, 226, 87, 1)",
           "rgba(190, 211, 13, 1)",
           "rgba(144, 212, 110, 1)",
           "rgba(207, 180, 79, 1)",
           "rgba(49, 153, 221, 1)",
           "rgba(39, 63, 70, 1)",
           "rgba(111, 225, 47, 1)",
           "rgba(160, 5, 248, 1)",
           "rgba(250, 110, 197, 1)",
           "rgba(160, 5, 248, 1)",
           "rgba(229, 29, 50, 1)",
           "rgba(171, 158, 134, 1)",
           "rgba(251, 225, 86, 1)",
           "rgba(97, 66, 36, 1)",
           "rgba(49, 153, 221, 1)",
           "rgba(62, 178, 222, 1)",
           "rgba(67, 226, 87, 1)",
           "rgba(86, 71, 126, 1)"
          ],
          "label": [
           "D-other",
           "None",
           "DVRd",
           "DRd",
           "R mono",
           "V mono",
           "VR",
           "Other",
           "D Mono",
           "VCd",
           "VRd",
           "Rd",
           "VRd",
           "Vd",
           "DVd",
           "DPd",
           "D-other",
           "Other",
           "DKd",
           "DRd",
           "IsaKd"
          ],
          "line": {
           "color": "black",
           "width": 0.5
          },
          "pad": 15,
          "thickness": 20
         },
         "type": "sankey"
        }
       ],
       "layout": {
        "font": {
         "size": 18
        },
        "height": 600,
        "template": {
         "data": {
          "bar": [
           {
            "error_x": {
             "color": "#2a3f5f"
            },
            "error_y": {
             "color": "#2a3f5f"
            },
            "marker": {
             "line": {
              "color": "#E5ECF6",
              "width": 0.5
             },
             "pattern": {
              "fillmode": "overlay",
              "size": 10,
              "solidity": 0.2
             }
            },
            "type": "bar"
           }
          ],
          "barpolar": [
           {
            "marker": {
             "line": {
              "color": "#E5ECF6",
              "width": 0.5
             },
             "pattern": {
              "fillmode": "overlay",
              "size": 10,
              "solidity": 0.2
             }
            },
            "type": "barpolar"
           }
          ],
          "carpet": [
           {
            "aaxis": {
             "endlinecolor": "#2a3f5f",
             "gridcolor": "white",
             "linecolor": "white",
             "minorgridcolor": "white",
             "startlinecolor": "#2a3f5f"
            },
            "baxis": {
             "endlinecolor": "#2a3f5f",
             "gridcolor": "white",
             "linecolor": "white",
             "minorgridcolor": "white",
             "startlinecolor": "#2a3f5f"
            },
            "type": "carpet"
           }
          ],
          "choropleth": [
           {
            "colorbar": {
             "outlinewidth": 0,
             "ticks": ""
            },
            "type": "choropleth"
           }
          ],
          "contour": [
           {
            "colorbar": {
             "outlinewidth": 0,
             "ticks": ""
            },
            "colorscale": [
             [
              0,
              "#0d0887"
             ],
             [
              0.1111111111111111,
              "#46039f"
             ],
             [
              0.2222222222222222,
              "#7201a8"
             ],
             [
              0.3333333333333333,
              "#9c179e"
             ],
             [
              0.4444444444444444,
              "#bd3786"
             ],
             [
              0.5555555555555556,
              "#d8576b"
             ],
             [
              0.6666666666666666,
              "#ed7953"
             ],
             [
              0.7777777777777778,
              "#fb9f3a"
             ],
             [
              0.8888888888888888,
              "#fdca26"
             ],
             [
              1,
              "#f0f921"
             ]
            ],
            "type": "contour"
           }
          ],
          "contourcarpet": [
           {
            "colorbar": {
             "outlinewidth": 0,
             "ticks": ""
            },
            "type": "contourcarpet"
           }
          ],
          "heatmap": [
           {
            "colorbar": {
             "outlinewidth": 0,
             "ticks": ""
            },
            "colorscale": [
             [
              0,
              "#0d0887"
             ],
             [
              0.1111111111111111,
              "#46039f"
             ],
             [
              0.2222222222222222,
              "#7201a8"
             ],
             [
              0.3333333333333333,
              "#9c179e"
             ],
             [
              0.4444444444444444,
              "#bd3786"
             ],
             [
              0.5555555555555556,
              "#d8576b"
             ],
             [
              0.6666666666666666,
              "#ed7953"
             ],
             [
              0.7777777777777778,
              "#fb9f3a"
             ],
             [
              0.8888888888888888,
              "#fdca26"
             ],
             [
              1,
              "#f0f921"
             ]
            ],
            "type": "heatmap"
           }
          ],
          "heatmapgl": [
           {
            "colorbar": {
             "outlinewidth": 0,
             "ticks": ""
            },
            "colorscale": [
             [
              0,
              "#0d0887"
             ],
             [
              0.1111111111111111,
              "#46039f"
             ],
             [
              0.2222222222222222,
              "#7201a8"
             ],
             [
              0.3333333333333333,
              "#9c179e"
             ],
             [
              0.4444444444444444,
              "#bd3786"
             ],
             [
              0.5555555555555556,
              "#d8576b"
             ],
             [
              0.6666666666666666,
              "#ed7953"
             ],
             [
              0.7777777777777778,
              "#fb9f3a"
             ],
             [
              0.8888888888888888,
              "#fdca26"
             ],
             [
              1,
              "#f0f921"
             ]
            ],
            "type": "heatmapgl"
           }
          ],
          "histogram": [
           {
            "marker": {
             "pattern": {
              "fillmode": "overlay",
              "size": 10,
              "solidity": 0.2
             }
            },
            "type": "histogram"
           }
          ],
          "histogram2d": [
           {
            "colorbar": {
             "outlinewidth": 0,
             "ticks": ""
            },
            "colorscale": [
             [
              0,
              "#0d0887"
             ],
             [
              0.1111111111111111,
              "#46039f"
             ],
             [
              0.2222222222222222,
              "#7201a8"
             ],
             [
              0.3333333333333333,
              "#9c179e"
             ],
             [
              0.4444444444444444,
              "#bd3786"
             ],
             [
              0.5555555555555556,
              "#d8576b"
             ],
             [
              0.6666666666666666,
              "#ed7953"
             ],
             [
              0.7777777777777778,
              "#fb9f3a"
             ],
             [
              0.8888888888888888,
              "#fdca26"
             ],
             [
              1,
              "#f0f921"
             ]
            ],
            "type": "histogram2d"
           }
          ],
          "histogram2dcontour": [
           {
            "colorbar": {
             "outlinewidth": 0,
             "ticks": ""
            },
            "colorscale": [
             [
              0,
              "#0d0887"
             ],
             [
              0.1111111111111111,
              "#46039f"
             ],
             [
              0.2222222222222222,
              "#7201a8"
             ],
             [
              0.3333333333333333,
              "#9c179e"
             ],
             [
              0.4444444444444444,
              "#bd3786"
             ],
             [
              0.5555555555555556,
              "#d8576b"
             ],
             [
              0.6666666666666666,
              "#ed7953"
             ],
             [
              0.7777777777777778,
              "#fb9f3a"
             ],
             [
              0.8888888888888888,
              "#fdca26"
             ],
             [
              1,
              "#f0f921"
             ]
            ],
            "type": "histogram2dcontour"
           }
          ],
          "mesh3d": [
           {
            "colorbar": {
             "outlinewidth": 0,
             "ticks": ""
            },
            "type": "mesh3d"
           }
          ],
          "parcoords": [
           {
            "line": {
             "colorbar": {
              "outlinewidth": 0,
              "ticks": ""
             }
            },
            "type": "parcoords"
           }
          ],
          "pie": [
           {
            "automargin": true,
            "type": "pie"
           }
          ],
          "scatter": [
           {
            "fillpattern": {
             "fillmode": "overlay",
             "size": 10,
             "solidity": 0.2
            },
            "type": "scatter"
           }
          ],
          "scatter3d": [
           {
            "line": {
             "colorbar": {
              "outlinewidth": 0,
              "ticks": ""
             }
            },
            "marker": {
             "colorbar": {
              "outlinewidth": 0,
              "ticks": ""
             }
            },
            "type": "scatter3d"
           }
          ],
          "scattercarpet": [
           {
            "marker": {
             "colorbar": {
              "outlinewidth": 0,
              "ticks": ""
             }
            },
            "type": "scattercarpet"
           }
          ],
          "scattergeo": [
           {
            "marker": {
             "colorbar": {
              "outlinewidth": 0,
              "ticks": ""
             }
            },
            "type": "scattergeo"
           }
          ],
          "scattergl": [
           {
            "marker": {
             "colorbar": {
              "outlinewidth": 0,
              "ticks": ""
             }
            },
            "type": "scattergl"
           }
          ],
          "scattermapbox": [
           {
            "marker": {
             "colorbar": {
              "outlinewidth": 0,
              "ticks": ""
             }
            },
            "type": "scattermapbox"
           }
          ],
          "scatterpolar": [
           {
            "marker": {
             "colorbar": {
              "outlinewidth": 0,
              "ticks": ""
             }
            },
            "type": "scatterpolar"
           }
          ],
          "scatterpolargl": [
           {
            "marker": {
             "colorbar": {
              "outlinewidth": 0,
              "ticks": ""
             }
            },
            "type": "scatterpolargl"
           }
          ],
          "scatterternary": [
           {
            "marker": {
             "colorbar": {
              "outlinewidth": 0,
              "ticks": ""
             }
            },
            "type": "scatterternary"
           }
          ],
          "surface": [
           {
            "colorbar": {
             "outlinewidth": 0,
             "ticks": ""
            },
            "colorscale": [
             [
              0,
              "#0d0887"
             ],
             [
              0.1111111111111111,
              "#46039f"
             ],
             [
              0.2222222222222222,
              "#7201a8"
             ],
             [
              0.3333333333333333,
              "#9c179e"
             ],
             [
              0.4444444444444444,
              "#bd3786"
             ],
             [
              0.5555555555555556,
              "#d8576b"
             ],
             [
              0.6666666666666666,
              "#ed7953"
             ],
             [
              0.7777777777777778,
              "#fb9f3a"
             ],
             [
              0.8888888888888888,
              "#fdca26"
             ],
             [
              1,
              "#f0f921"
             ]
            ],
            "type": "surface"
           }
          ],
          "table": [
           {
            "cells": {
             "fill": {
              "color": "#EBF0F8"
             },
             "line": {
              "color": "white"
             }
            },
            "header": {
             "fill": {
              "color": "#C8D4E3"
             },
             "line": {
              "color": "white"
             }
            },
            "type": "table"
           }
          ]
         },
         "layout": {
          "annotationdefaults": {
           "arrowcolor": "#2a3f5f",
           "arrowhead": 0,
           "arrowwidth": 1
          },
          "autotypenumbers": "strict",
          "coloraxis": {
           "colorbar": {
            "outlinewidth": 0,
            "ticks": ""
           }
          },
          "colorscale": {
           "diverging": [
            [
             0,
             "#8e0152"
            ],
            [
             0.1,
             "#c51b7d"
            ],
            [
             0.2,
             "#de77ae"
            ],
            [
             0.3,
             "#f1b6da"
            ],
            [
             0.4,
             "#fde0ef"
            ],
            [
             0.5,
             "#f7f7f7"
            ],
            [
             0.6,
             "#e6f5d0"
            ],
            [
             0.7,
             "#b8e186"
            ],
            [
             0.8,
             "#7fbc41"
            ],
            [
             0.9,
             "#4d9221"
            ],
            [
             1,
             "#276419"
            ]
           ],
           "sequential": [
            [
             0,
             "#0d0887"
            ],
            [
             0.1111111111111111,
             "#46039f"
            ],
            [
             0.2222222222222222,
             "#7201a8"
            ],
            [
             0.3333333333333333,
             "#9c179e"
            ],
            [
             0.4444444444444444,
             "#bd3786"
            ],
            [
             0.5555555555555556,
             "#d8576b"
            ],
            [
             0.6666666666666666,
             "#ed7953"
            ],
            [
             0.7777777777777778,
             "#fb9f3a"
            ],
            [
             0.8888888888888888,
             "#fdca26"
            ],
            [
             1,
             "#f0f921"
            ]
           ],
           "sequentialminus": [
            [
             0,
             "#0d0887"
            ],
            [
             0.1111111111111111,
             "#46039f"
            ],
            [
             0.2222222222222222,
             "#7201a8"
            ],
            [
             0.3333333333333333,
             "#9c179e"
            ],
            [
             0.4444444444444444,
             "#bd3786"
            ],
            [
             0.5555555555555556,
             "#d8576b"
            ],
            [
             0.6666666666666666,
             "#ed7953"
            ],
            [
             0.7777777777777778,
             "#fb9f3a"
            ],
            [
             0.8888888888888888,
             "#fdca26"
            ],
            [
             1,
             "#f0f921"
            ]
           ]
          },
          "colorway": [
           "#636efa",
           "#EF553B",
           "#00cc96",
           "#ab63fa",
           "#FFA15A",
           "#19d3f3",
           "#FF6692",
           "#B6E880",
           "#FF97FF",
           "#FECB52"
          ],
          "font": {
           "color": "#2a3f5f"
          },
          "geo": {
           "bgcolor": "white",
           "lakecolor": "white",
           "landcolor": "#E5ECF6",
           "showlakes": true,
           "showland": true,
           "subunitcolor": "white"
          },
          "hoverlabel": {
           "align": "left"
          },
          "hovermode": "closest",
          "mapbox": {
           "style": "light"
          },
          "paper_bgcolor": "white",
          "plot_bgcolor": "#E5ECF6",
          "polar": {
           "angularaxis": {
            "gridcolor": "white",
            "linecolor": "white",
            "ticks": ""
           },
           "bgcolor": "#E5ECF6",
           "radialaxis": {
            "gridcolor": "white",
            "linecolor": "white",
            "ticks": ""
           }
          },
          "scene": {
           "xaxis": {
            "backgroundcolor": "#E5ECF6",
            "gridcolor": "white",
            "gridwidth": 2,
            "linecolor": "white",
            "showbackground": true,
            "ticks": "",
            "zerolinecolor": "white"
           },
           "yaxis": {
            "backgroundcolor": "#E5ECF6",
            "gridcolor": "white",
            "gridwidth": 2,
            "linecolor": "white",
            "showbackground": true,
            "ticks": "",
            "zerolinecolor": "white"
           },
           "zaxis": {
            "backgroundcolor": "#E5ECF6",
            "gridcolor": "white",
            "gridwidth": 2,
            "linecolor": "white",
            "showbackground": true,
            "ticks": "",
            "zerolinecolor": "white"
           }
          },
          "shapedefaults": {
           "line": {
            "color": "#2a3f5f"
           }
          },
          "ternary": {
           "aaxis": {
            "gridcolor": "white",
            "linecolor": "white",
            "ticks": ""
           },
           "baxis": {
            "gridcolor": "white",
            "linecolor": "white",
            "ticks": ""
           },
           "bgcolor": "#E5ECF6",
           "caxis": {
            "gridcolor": "white",
            "linecolor": "white",
            "ticks": ""
           }
          },
          "title": {
           "x": 0.05
          },
          "xaxis": {
           "automargin": true,
           "gridcolor": "white",
           "linecolor": "white",
           "ticks": "",
           "title": {
            "standoff": 15
           },
           "zerolinecolor": "white",
           "zerolinewidth": 2
          },
          "yaxis": {
           "automargin": true,
           "gridcolor": "white",
           "linecolor": "white",
           "ticks": "",
           "title": {
            "standoff": 15
           },
           "zerolinecolor": "white",
           "zerolinewidth": 2
          }
         }
        },
        "width": 1000
       }
      },
      "text/html": [
       "<div>                            <div id=\"76673406-37f2-4049-a0ff-408302d8c409\" class=\"plotly-graph-div\" style=\"height:600px; width:1000px;\"></div>            <script type=\"text/javascript\">                require([\"plotly\"], function(Plotly) {                    window.PLOTLYENV=window.PLOTLYENV || {};                                    if (document.getElementById(\"76673406-37f2-4049-a0ff-408302d8c409\")) {                    Plotly.newPlot(                        \"76673406-37f2-4049-a0ff-408302d8c409\",                        [{\"link\":{\"color\":[\"rgba(97, 66, 36, 1)\",\"rgba(75, 60, 223, 1)\",\"rgba(75, 60, 223, 1)\",\"rgba(75, 60, 223, 1)\",\"rgba(75, 60, 223, 1)\",\"rgba(75, 60, 223, 1)\",\"rgba(75, 60, 223, 1)\",\"rgba(75, 60, 223, 1)\",\"rgba(75, 60, 223, 1)\",\"rgba(49, 153, 221, 1)\",\"rgba(49, 153, 221, 1)\",\"rgba(49, 153, 221, 1)\",\"rgba(49, 153, 221, 1)\",\"rgba(49, 153, 221, 1)\",\"rgba(49, 153, 221, 1)\",\"rgba(49, 153, 221, 1)\",\"rgba(49, 153, 221, 1)\",\"rgba(111, 225, 47, 1)\",\"rgba(111, 225, 47, 1)\",\"rgba(160, 5, 248, 1)\",\"rgba(160, 5, 248, 1)\",\"rgba(160, 5, 248, 1)\",\"rgba(160, 5, 248, 1)\",\"rgba(160, 5, 248, 1)\",\"rgba(160, 5, 248, 1)\",\"rgba(160, 5, 248, 1)\",\"rgba(160, 5, 248, 1)\",\"rgba(160, 5, 248, 1)\",\"rgba(160, 5, 248, 1)\",\"rgba(160, 5, 248, 1)\",\"rgba(160, 5, 248, 1)\",\"rgba(160, 5, 248, 1)\",\"rgba(160, 5, 248, 1)\",\"rgba(160, 5, 248, 1)\",\"rgba(160, 5, 248, 1)\",\"rgba(160, 5, 248, 1)\",\"rgba(160, 5, 248, 1)\",\"rgba(160, 5, 248, 1)\",\"rgba(160, 5, 248, 1)\",\"rgba(160, 5, 248, 1)\",\"rgba(160, 5, 248, 1)\",\"rgba(160, 5, 248, 1)\",\"rgba(160, 5, 248, 1)\",\"rgba(160, 5, 248, 1)\",\"rgba(160, 5, 248, 1)\",\"rgba(160, 5, 248, 1)\",\"rgba(104, 131, 83, 1)\",\"rgba(104, 131, 83, 1)\",\"rgba(67, 226, 87, 1)\",\"rgba(104, 131, 83, 1)\",\"rgba(104, 131, 83, 1)\",\"rgba(190, 211, 13, 1)\",\"rgba(190, 211, 13, 1)\",\"rgba(144, 212, 110, 1)\",\"rgba(207, 180, 79, 1)\",\"rgba(104, 131, 83, 1)\",\"rgba(104, 131, 83, 1)\",\"rgba(39, 63, 70, 1)\",\"rgba(104, 131, 83, 1)\",\"rgba(104, 131, 83, 1)\",\"rgba(190, 211, 13, 1)\",\"rgba(190, 211, 13, 1)\",\"rgba(144, 212, 110, 1)\",\"rgba(190, 211, 13, 1)\",\"rgba(144, 212, 110, 1)\",\"rgba(104, 131, 83, 1)\",\"rgba(104, 131, 83, 1)\",\"rgba(144, 212, 110, 1)\",\"rgba(104, 131, 83, 1)\",\"rgba(104, 131, 83, 1)\",\"rgba(104, 131, 83, 1)\",\"rgba(104, 131, 83, 1)\",\"rgba(190, 211, 13, 1)\",\"rgba(190, 211, 13, 1)\",\"rgba(190, 211, 13, 1)\",\"rgba(190, 211, 13, 1)\",\"rgba(190, 211, 13, 1)\",\"rgba(190, 211, 13, 1)\",\"rgba(190, 211, 13, 1)\",\"rgba(250, 110, 197, 1)\",\"rgba(250, 110, 197, 1)\",\"rgba(250, 110, 197, 1)\",\"rgba(144, 212, 110, 1)\",\"rgba(144, 212, 110, 1)\",\"rgba(144, 212, 110, 1)\",\"rgba(207, 180, 79, 1)\",\"rgba(207, 180, 79, 1)\",\"rgba(207, 180, 79, 1)\",\"rgba(207, 180, 79, 1)\",\"rgba(160, 5, 248, 1)\",\"rgba(160, 5, 248, 1)\",\"rgba(229, 29, 50, 1)\"],\"source\":[0,2,2,2,2,2,2,2,2,7,7,7,7,7,7,7,7,9,9,10,10,10,10,10,10,10,10,10,10,10,10,10,10,10,10,10,10,10,10,10,10,10,10,10,10,10,1,1,3,1,1,4,4,5,6,1,1,8,1,1,4,4,5,4,5,1,1,5,1,1,1,1,4,4,4,4,4,4,4,11,11,11,5,5,5,6,6,6,6,12,12,13],\"target\":[1,1,3,1,1,4,4,5,6,1,1,8,1,1,4,4,5,4,5,1,1,5,1,1,1,1,4,4,4,4,4,4,4,11,11,11,5,5,5,6,6,6,6,12,12,13,14,15,15,16,17,15,17,15,17,18,19,19,15,19,18,15,19,19,14,18,19,15,16,18,19,17,16,18,15,19,14,20,17,15,14,17,18,15,19,16,18,14,20,15,17,17],\"value\":[1,1,2,1,1,1,1,1,1,1,1,2,1,3,1,1,1,1,1,1,1,1,1,2,1,2,3,6,10,2,2,1,3,1,1,4,1,1,1,1,1,1,1,1,1,1,1,1,2,1,1,1,1,1,1,1,1,2,1,3,1,1,1,1,1,1,1,1,1,2,1,2,3,6,10,2,2,1,3,1,1,4,1,1,1,1,1,1,1,1,1,1]},\"node\":{\"color\":[\"rgba(97, 66, 36, 1)\",\"rgba(104, 131, 83, 1)\",\"rgba(75, 60, 223, 1)\",\"rgba(67, 226, 87, 1)\",\"rgba(190, 211, 13, 1)\",\"rgba(144, 212, 110, 1)\",\"rgba(207, 180, 79, 1)\",\"rgba(49, 153, 221, 1)\",\"rgba(39, 63, 70, 1)\",\"rgba(111, 225, 47, 1)\",\"rgba(160, 5, 248, 1)\",\"rgba(250, 110, 197, 1)\",\"rgba(160, 5, 248, 1)\",\"rgba(229, 29, 50, 1)\",\"rgba(171, 158, 134, 1)\",\"rgba(251, 225, 86, 1)\",\"rgba(97, 66, 36, 1)\",\"rgba(49, 153, 221, 1)\",\"rgba(62, 178, 222, 1)\",\"rgba(67, 226, 87, 1)\",\"rgba(86, 71, 126, 1)\"],\"label\":[\"D-other\",\"None\",\"DVRd\",\"DRd\",\"R mono\",\"V mono\",\"VR\",\"Other\",\"D Mono\",\"VCd\",\"VRd\",\"Rd\",\"VRd\",\"Vd\",\"DVd\",\"DPd\",\"D-other\",\"Other\",\"DKd\",\"DRd\",\"IsaKd\"],\"line\":{\"color\":\"black\",\"width\":0.5},\"pad\":15,\"thickness\":20},\"type\":\"sankey\"}],                        {\"template\":{\"data\":{\"histogram2dcontour\":[{\"type\":\"histogram2dcontour\",\"colorbar\":{\"outlinewidth\":0,\"ticks\":\"\"},\"colorscale\":[[0.0,\"#0d0887\"],[0.1111111111111111,\"#46039f\"],[0.2222222222222222,\"#7201a8\"],[0.3333333333333333,\"#9c179e\"],[0.4444444444444444,\"#bd3786\"],[0.5555555555555556,\"#d8576b\"],[0.6666666666666666,\"#ed7953\"],[0.7777777777777778,\"#fb9f3a\"],[0.8888888888888888,\"#fdca26\"],[1.0,\"#f0f921\"]]}],\"choropleth\":[{\"type\":\"choropleth\",\"colorbar\":{\"outlinewidth\":0,\"ticks\":\"\"}}],\"histogram2d\":[{\"type\":\"histogram2d\",\"colorbar\":{\"outlinewidth\":0,\"ticks\":\"\"},\"colorscale\":[[0.0,\"#0d0887\"],[0.1111111111111111,\"#46039f\"],[0.2222222222222222,\"#7201a8\"],[0.3333333333333333,\"#9c179e\"],[0.4444444444444444,\"#bd3786\"],[0.5555555555555556,\"#d8576b\"],[0.6666666666666666,\"#ed7953\"],[0.7777777777777778,\"#fb9f3a\"],[0.8888888888888888,\"#fdca26\"],[1.0,\"#f0f921\"]]}],\"heatmap\":[{\"type\":\"heatmap\",\"colorbar\":{\"outlinewidth\":0,\"ticks\":\"\"},\"colorscale\":[[0.0,\"#0d0887\"],[0.1111111111111111,\"#46039f\"],[0.2222222222222222,\"#7201a8\"],[0.3333333333333333,\"#9c179e\"],[0.4444444444444444,\"#bd3786\"],[0.5555555555555556,\"#d8576b\"],[0.6666666666666666,\"#ed7953\"],[0.7777777777777778,\"#fb9f3a\"],[0.8888888888888888,\"#fdca26\"],[1.0,\"#f0f921\"]]}],\"heatmapgl\":[{\"type\":\"heatmapgl\",\"colorbar\":{\"outlinewidth\":0,\"ticks\":\"\"},\"colorscale\":[[0.0,\"#0d0887\"],[0.1111111111111111,\"#46039f\"],[0.2222222222222222,\"#7201a8\"],[0.3333333333333333,\"#9c179e\"],[0.4444444444444444,\"#bd3786\"],[0.5555555555555556,\"#d8576b\"],[0.6666666666666666,\"#ed7953\"],[0.7777777777777778,\"#fb9f3a\"],[0.8888888888888888,\"#fdca26\"],[1.0,\"#f0f921\"]]}],\"contourcarpet\":[{\"type\":\"contourcarpet\",\"colorbar\":{\"outlinewidth\":0,\"ticks\":\"\"}}],\"contour\":[{\"type\":\"contour\",\"colorbar\":{\"outlinewidth\":0,\"ticks\":\"\"},\"colorscale\":[[0.0,\"#0d0887\"],[0.1111111111111111,\"#46039f\"],[0.2222222222222222,\"#7201a8\"],[0.3333333333333333,\"#9c179e\"],[0.4444444444444444,\"#bd3786\"],[0.5555555555555556,\"#d8576b\"],[0.6666666666666666,\"#ed7953\"],[0.7777777777777778,\"#fb9f3a\"],[0.8888888888888888,\"#fdca26\"],[1.0,\"#f0f921\"]]}],\"surface\":[{\"type\":\"surface\",\"colorbar\":{\"outlinewidth\":0,\"ticks\":\"\"},\"colorscale\":[[0.0,\"#0d0887\"],[0.1111111111111111,\"#46039f\"],[0.2222222222222222,\"#7201a8\"],[0.3333333333333333,\"#9c179e\"],[0.4444444444444444,\"#bd3786\"],[0.5555555555555556,\"#d8576b\"],[0.6666666666666666,\"#ed7953\"],[0.7777777777777778,\"#fb9f3a\"],[0.8888888888888888,\"#fdca26\"],[1.0,\"#f0f921\"]]}],\"mesh3d\":[{\"type\":\"mesh3d\",\"colorbar\":{\"outlinewidth\":0,\"ticks\":\"\"}}],\"scatter\":[{\"fillpattern\":{\"fillmode\":\"overlay\",\"size\":10,\"solidity\":0.2},\"type\":\"scatter\"}],\"parcoords\":[{\"type\":\"parcoords\",\"line\":{\"colorbar\":{\"outlinewidth\":0,\"ticks\":\"\"}}}],\"scatterpolargl\":[{\"type\":\"scatterpolargl\",\"marker\":{\"colorbar\":{\"outlinewidth\":0,\"ticks\":\"\"}}}],\"bar\":[{\"error_x\":{\"color\":\"#2a3f5f\"},\"error_y\":{\"color\":\"#2a3f5f\"},\"marker\":{\"line\":{\"color\":\"#E5ECF6\",\"width\":0.5},\"pattern\":{\"fillmode\":\"overlay\",\"size\":10,\"solidity\":0.2}},\"type\":\"bar\"}],\"scattergeo\":[{\"type\":\"scattergeo\",\"marker\":{\"colorbar\":{\"outlinewidth\":0,\"ticks\":\"\"}}}],\"scatterpolar\":[{\"type\":\"scatterpolar\",\"marker\":{\"colorbar\":{\"outlinewidth\":0,\"ticks\":\"\"}}}],\"histogram\":[{\"marker\":{\"pattern\":{\"fillmode\":\"overlay\",\"size\":10,\"solidity\":0.2}},\"type\":\"histogram\"}],\"scattergl\":[{\"type\":\"scattergl\",\"marker\":{\"colorbar\":{\"outlinewidth\":0,\"ticks\":\"\"}}}],\"scatter3d\":[{\"type\":\"scatter3d\",\"line\":{\"colorbar\":{\"outlinewidth\":0,\"ticks\":\"\"}},\"marker\":{\"colorbar\":{\"outlinewidth\":0,\"ticks\":\"\"}}}],\"scattermapbox\":[{\"type\":\"scattermapbox\",\"marker\":{\"colorbar\":{\"outlinewidth\":0,\"ticks\":\"\"}}}],\"scatterternary\":[{\"type\":\"scatterternary\",\"marker\":{\"colorbar\":{\"outlinewidth\":0,\"ticks\":\"\"}}}],\"scattercarpet\":[{\"type\":\"scattercarpet\",\"marker\":{\"colorbar\":{\"outlinewidth\":0,\"ticks\":\"\"}}}],\"carpet\":[{\"aaxis\":{\"endlinecolor\":\"#2a3f5f\",\"gridcolor\":\"white\",\"linecolor\":\"white\",\"minorgridcolor\":\"white\",\"startlinecolor\":\"#2a3f5f\"},\"baxis\":{\"endlinecolor\":\"#2a3f5f\",\"gridcolor\":\"white\",\"linecolor\":\"white\",\"minorgridcolor\":\"white\",\"startlinecolor\":\"#2a3f5f\"},\"type\":\"carpet\"}],\"table\":[{\"cells\":{\"fill\":{\"color\":\"#EBF0F8\"},\"line\":{\"color\":\"white\"}},\"header\":{\"fill\":{\"color\":\"#C8D4E3\"},\"line\":{\"color\":\"white\"}},\"type\":\"table\"}],\"barpolar\":[{\"marker\":{\"line\":{\"color\":\"#E5ECF6\",\"width\":0.5},\"pattern\":{\"fillmode\":\"overlay\",\"size\":10,\"solidity\":0.2}},\"type\":\"barpolar\"}],\"pie\":[{\"automargin\":true,\"type\":\"pie\"}]},\"layout\":{\"autotypenumbers\":\"strict\",\"colorway\":[\"#636efa\",\"#EF553B\",\"#00cc96\",\"#ab63fa\",\"#FFA15A\",\"#19d3f3\",\"#FF6692\",\"#B6E880\",\"#FF97FF\",\"#FECB52\"],\"font\":{\"color\":\"#2a3f5f\"},\"hovermode\":\"closest\",\"hoverlabel\":{\"align\":\"left\"},\"paper_bgcolor\":\"white\",\"plot_bgcolor\":\"#E5ECF6\",\"polar\":{\"bgcolor\":\"#E5ECF6\",\"angularaxis\":{\"gridcolor\":\"white\",\"linecolor\":\"white\",\"ticks\":\"\"},\"radialaxis\":{\"gridcolor\":\"white\",\"linecolor\":\"white\",\"ticks\":\"\"}},\"ternary\":{\"bgcolor\":\"#E5ECF6\",\"aaxis\":{\"gridcolor\":\"white\",\"linecolor\":\"white\",\"ticks\":\"\"},\"baxis\":{\"gridcolor\":\"white\",\"linecolor\":\"white\",\"ticks\":\"\"},\"caxis\":{\"gridcolor\":\"white\",\"linecolor\":\"white\",\"ticks\":\"\"}},\"coloraxis\":{\"colorbar\":{\"outlinewidth\":0,\"ticks\":\"\"}},\"colorscale\":{\"sequential\":[[0.0,\"#0d0887\"],[0.1111111111111111,\"#46039f\"],[0.2222222222222222,\"#7201a8\"],[0.3333333333333333,\"#9c179e\"],[0.4444444444444444,\"#bd3786\"],[0.5555555555555556,\"#d8576b\"],[0.6666666666666666,\"#ed7953\"],[0.7777777777777778,\"#fb9f3a\"],[0.8888888888888888,\"#fdca26\"],[1.0,\"#f0f921\"]],\"sequentialminus\":[[0.0,\"#0d0887\"],[0.1111111111111111,\"#46039f\"],[0.2222222222222222,\"#7201a8\"],[0.3333333333333333,\"#9c179e\"],[0.4444444444444444,\"#bd3786\"],[0.5555555555555556,\"#d8576b\"],[0.6666666666666666,\"#ed7953\"],[0.7777777777777778,\"#fb9f3a\"],[0.8888888888888888,\"#fdca26\"],[1.0,\"#f0f921\"]],\"diverging\":[[0,\"#8e0152\"],[0.1,\"#c51b7d\"],[0.2,\"#de77ae\"],[0.3,\"#f1b6da\"],[0.4,\"#fde0ef\"],[0.5,\"#f7f7f7\"],[0.6,\"#e6f5d0\"],[0.7,\"#b8e186\"],[0.8,\"#7fbc41\"],[0.9,\"#4d9221\"],[1,\"#276419\"]]},\"xaxis\":{\"gridcolor\":\"white\",\"linecolor\":\"white\",\"ticks\":\"\",\"title\":{\"standoff\":15},\"zerolinecolor\":\"white\",\"automargin\":true,\"zerolinewidth\":2},\"yaxis\":{\"gridcolor\":\"white\",\"linecolor\":\"white\",\"ticks\":\"\",\"title\":{\"standoff\":15},\"zerolinecolor\":\"white\",\"automargin\":true,\"zerolinewidth\":2},\"scene\":{\"xaxis\":{\"backgroundcolor\":\"#E5ECF6\",\"gridcolor\":\"white\",\"linecolor\":\"white\",\"showbackground\":true,\"ticks\":\"\",\"zerolinecolor\":\"white\",\"gridwidth\":2},\"yaxis\":{\"backgroundcolor\":\"#E5ECF6\",\"gridcolor\":\"white\",\"linecolor\":\"white\",\"showbackground\":true,\"ticks\":\"\",\"zerolinecolor\":\"white\",\"gridwidth\":2},\"zaxis\":{\"backgroundcolor\":\"#E5ECF6\",\"gridcolor\":\"white\",\"linecolor\":\"white\",\"showbackground\":true,\"ticks\":\"\",\"zerolinecolor\":\"white\",\"gridwidth\":2}},\"shapedefaults\":{\"line\":{\"color\":\"#2a3f5f\"}},\"annotationdefaults\":{\"arrowcolor\":\"#2a3f5f\",\"arrowhead\":0,\"arrowwidth\":1},\"geo\":{\"bgcolor\":\"white\",\"landcolor\":\"#E5ECF6\",\"subunitcolor\":\"white\",\"showland\":true,\"showlakes\":true,\"lakecolor\":\"white\"},\"title\":{\"x\":0.05},\"mapbox\":{\"style\":\"light\"}}},\"font\":{\"size\":18},\"height\":600,\"width\":1000},                        {\"responsive\": true}                    ).then(function(){\n",
       "                            \n",
       "var gd = document.getElementById('76673406-37f2-4049-a0ff-408302d8c409');\n",
       "var x = new MutationObserver(function (mutations, observer) {{\n",
       "        var display = window.getComputedStyle(gd).display;\n",
       "        if (!display || display === 'none') {{\n",
       "            console.log([gd, 'removed!']);\n",
       "            Plotly.purge(gd);\n",
       "            observer.disconnect();\n",
       "        }}\n",
       "}});\n",
       "\n",
       "// Listen for the removal of the full notebook cells\n",
       "var notebookContainer = gd.closest('#notebook-container');\n",
       "if (notebookContainer) {{\n",
       "    x.observe(notebookContainer, {childList: true});\n",
       "}}\n",
       "\n",
       "// Listen for the clearing of the current output cell\n",
       "var outputEl = gd.closest('.output');\n",
       "if (outputEl) {{\n",
       "    x.observe(outputEl, {childList: true});\n",
       "}}\n",
       "\n",
       "                        })                };                });            </script>        </div>"
      ]
     },
     "metadata": {},
     "output_type": "display_data"
    }
   ],
   "source": [
    "\n",
    "# Helper function to add identifier to regimen names\n",
    "def add_identifier(regimen, identifier):\n",
    "    return regimen + \"_\" + identifier\n",
    "\n",
    "# Grouping data to get counts for each flow\n",
    "induction_counts = data['induction_regimen'].value_counts()\n",
    "consolidation_counts = data['Consolidation'].value_counts()\n",
    "maintenance_counts = data['maintenance_regimen'].value_counts()\n",
    "line2_counts = data['next_line_regimen'].value_counts()\n",
    "\n",
    "# Counting unique patients for each combination of Induction, Maintenance, and Line 2 regimens\n",
    "combination_counts = data.groupby(['induction_regimen','Consolidation','maintenance_regimen', 'next_line_regimen']).size().reset_index(name='count')\n",
    "\n",
    "# Initializing the lists for the Sankey diagram\n",
    "source = []\n",
    "target = []\n",
    "value = []\n",
    "label = []\n",
    "\n",
    "# Populating the lists for Induction to Maintenance connections\n",
    "for index, row in combination_counts.iterrows():\n",
    "    # Induction\n",
    "    if add_identifier(row['induction_regimen'], \"I\") not in label:\n",
    "        label.append(add_identifier(row['induction_regimen'], \"I\"))\n",
    "    source.append(label.index(add_identifier(row['induction_regimen'], \"I\")))\n",
    "    \n",
    "    # Maintenance\n",
    "    if add_identifier(row['maintenance_regimen'], \"M\") not in label:\n",
    "        label.append(add_identifier(row['maintenance_regimen'], \"M\"))\n",
    "    target.append(label.index(add_identifier(row['maintenance_regimen'], \"M\")))\n",
    "    \n",
    "    # Value\n",
    "    value.append(row['count'])\n",
    "    \n",
    "\n",
    "# Populating the lists for Maintenance to Line 2 connections\n",
    "for index, row in combination_counts.iterrows():\n",
    "    # Maintenance\n",
    "    if add_identifier(row['maintenance_regimen'], \"M\") not in label:\n",
    "        label.append(add_identifier(row['maintenance_regimen'], \"M\"))\n",
    "    source.append(label.index(add_identifier(row['maintenance_regimen'], \"M\")))\n",
    "    \n",
    "    # Line 2\n",
    "    if add_identifier(row['next_line_regimen'], \"2\") not in label:\n",
    "        label.append(add_identifier(row['next_line_regimen'], \"2\"))\n",
    "    target.append(label.index(add_identifier(row['next_line_regimen'], \"2\")))\n",
    "    \n",
    "    # Value\n",
    "    value.append(row['count'])\n",
    "\n",
    "# Removing the identifiers for node labels\n",
    "label_clean = [l.split(\"_\")[0] for l in label]\n",
    "\n",
    "# Generate a random color\n",
    "def generate_random_color():\n",
    "    return 'rgba({}, {}, {}, 1)'.format(random.randint(0, 255), \n",
    "                                        random.randint(0, 255), \n",
    "                                        random.randint(0, 255))\n",
    "\n",
    "# Create a color map with random colors for each unique node label\n",
    "color_map = {label: generate_random_color() for label in label_clean}\n",
    "\n",
    "# Determine the colors for nodes based on the color_map\n",
    "node_colors = [color_map[label] for label in label_clean]\n",
    "\n",
    "# Use a loop to determine the color of each link based on its source node\n",
    "link_colors = [node_colors[src] for src in source]\n",
    "\n",
    "# Create the Sankey diagram\n",
    "fig = go.Figure(go.Sankey(\n",
    "    node=dict(\n",
    "        pad=15,\n",
    "        thickness=20,\n",
    "        line=dict(color=\"black\", width=0.5),\n",
    "        label=label_clean,\n",
    "        color=node_colors\n",
    "    ),\n",
    "    link=dict(\n",
    "        source=source,\n",
    "        target=target,\n",
    "        value=value,\n",
    "        color=link_colors\n",
    "    )\n",
    "))\n",
    "\n",
    "fig.update_layout(\n",
    "    height=600,  # Adjust the height\n",
    "    width=1000,   # Adjust the width\n",
    "    font_size=18  # Adjust the font size\n",
    ")\n",
    "fig"
   ]
  },
  {
   "cell_type": "code",
   "execution_count": 349,
   "metadata": {},
   "outputs": [
    {
     "data": {
      "text/plain": [
       "0.09333333333333334"
      ]
     },
     "execution_count": 349,
     "metadata": {},
     "output_type": "execute_result"
    }
   ],
   "source": [
    "7/75"
   ]
  }
 ],
 "metadata": {
  "kernelspec": {
   "display_name": "Python 3 (ipykernel)",
   "language": "python",
   "name": "python3"
  },
  "language_info": {
   "codemirror_mode": {
    "name": "ipython",
    "version": 3
   },
   "file_extension": ".py",
   "mimetype": "text/x-python",
   "name": "python",
   "nbconvert_exporter": "python",
   "pygments_lexer": "ipython3",
   "version": "3.11.3"
  }
 },
 "nbformat": 4,
 "nbformat_minor": 2
}
