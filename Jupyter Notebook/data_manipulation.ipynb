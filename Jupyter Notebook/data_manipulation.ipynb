{
 "cells": [
  {
   "cell_type": "code",
   "execution_count": 1,
   "metadata": {},
   "outputs": [],
   "source": [
    "%matplotlib notebook\n",
    "import pandas as pd\n",
    "import pandasql as pds\n",
    "from pandasql import sqldf\n",
    "import plotly.graph_objects as go\n",
    "import matplotlib.pyplot as plt\n",
    "pd.set_option('display.max_rows', 50)\n",
    "pd.set_option('display.min_rows', 50)\n",
    "import seaborn as sns"
   ]
  },
  {
   "cell_type": "code",
   "execution_count": null,
   "metadata": {},
   "outputs": [],
   "source": [
    "data_raw = pd.read_csv(r\"C:\\Users\\MichaelDiFelice\\Documents\\Training\\snowflake\\Sankey Data\\Sankey Data.csv\")\n",
    "\n",
    "\n",
    "data_sorted = data_raw.drop_duplicates(subset=['PATIENTID', 'LINENUMBER'])\n",
    "\n",
    "# Sort the data by PATIENTID and LINENUMBER to ensure the order\n",
    "data_sorted = data_sorted.sort_values(by=[\"PATIENTID\", \"LINENUMBER\"])\n",
    "\n",
    "# Shift the REGIMEN column to get the next regimen for each patient and line\n",
    "data_sorted[\"NEXT_REGIMEN\"] = data_sorted.groupby(\"PATIENTID\")[\"REGIMEN\"].shift(-1)\n",
    "data_sorted['PREVIOUS_REGIMEN'] = data_sorted.groupby(\"PATIENTID\")[\"REGIMEN\"].shift(1)\n",
    "# Fill NaN values in \"NEXT_REGIMEN\" with \"No Advancement\"\n",
    "data_sorted[\"NEXT_REGIMEN\"].fillna(\"No Advancement\", inplace=True)\n",
    "data_sorted[\"PREVIOUS_REGIMEN\"].fillna(\"\", inplace=True)\n",
    "\n",
    "\n",
    "# If NEXT_REGIMEN is 'No Advancement', set NEXT_LINENUMBER to the same as LINENUMBER\n",
    "# Otherwise, shift the LINENUMBER column to get the next line number for each patient\n",
    "data_sorted[\"NEXT_LINENUMBER\"] = data_sorted.apply(\n",
    "    lambda row: row[\"LINENUMBER\"] if row[\"NEXT_REGIMEN\"] == \"No Advancement\" else row[\"LINENUMBER\"] + 1, axis=1\n",
    ")\n",
    "\n",
    "# Filter out rows where the next line is not consecutive (e.g., line 1 followed by line 3) or 'No Advancement'\n",
    "data_sorted = data_sorted[(data_sorted[\"LINENUMBER\"] + 1 == data_sorted[\"NEXT_LINENUMBER\"]) | (data_sorted[\"NEXT_REGIMEN\"] == \"No Advancement\")]\n",
    "\n",
    "# For our current task, we only need certain columns\n",
    "data = data_sorted[[\"PATIENTID\", \"LINENUMBER\", \"REGIMEN\",\"PREVIOUS_REGIMEN\", \"NEXT_REGIMEN\", \"LEN_FLAG\", \"CD38_FLAG\", \"CD38_EXPOSED_FLAG\", \"TRANSPLANT_FLAG\", \"START_YEAR\",\"LEN_REFRACTORY_FLAG\",\"NEXT_LINENUMBER\"]]\n",
    "data = data[data['LINENUMBER'].isin([1, 2, 3, 4])]\n",
    "\n",
    "# Concatenate LINENUMBER to REGIMEN and NEXT_REGIMEN columns\n",
    "data['REGIMEN'] = data['REGIMEN'].astype(str) + data['LINENUMBER'].astype(str)\n",
    "data['NEXT_REGIMEN'] = data['NEXT_REGIMEN'].astype(str) + (data['LINENUMBER'] + 1).astype(str)\n",
    "data['PREVIOUS_REGIMEN'] = data['PREVIOUS_REGIMEN'].astype(str) + (data['LINENUMBER'] - 1).astype(str)\n",
    "data['PREVIOUS_REGIMEN'] = data['PREVIOUS_REGIMEN'].str.replace('0', '')\n",
    "\n",
    "\n",
    "data.to_clipboard()"
   ]
  }
 ],
 "metadata": {
  "kernelspec": {
   "display_name": "Python 3 (ipykernel)",
   "language": "python",
   "name": "python3"
  },
  "language_info": {
   "codemirror_mode": {
    "name": "ipython",
    "version": 3
   },
   "file_extension": ".py",
   "mimetype": "text/x-python",
   "name": "python",
   "nbconvert_exporter": "python",
   "pygments_lexer": "ipython3",
   "version": "3.11.3"
  }
 },
 "nbformat": 4,
 "nbformat_minor": 2
}
