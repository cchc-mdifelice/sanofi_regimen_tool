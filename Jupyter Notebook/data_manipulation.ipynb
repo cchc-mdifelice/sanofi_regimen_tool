{
 "cells": [
  {
   "cell_type": "code",
   "execution_count": 167,
   "metadata": {},
   "outputs": [],
   "source": [
    "%matplotlib notebook\n",
    "import pandas as pd\n",
    "import pandasql as pds\n",
    "from pandasql import sqldf\n",
    "import plotly.graph_objects as go\n",
    "import matplotlib.pyplot as plt\n",
    "pd.set_option('display.max_rows', 50)\n",
    "pd.set_option('display.min_rows', 50)\n",
    "import seaborn as sns\n",
    "from dateutil.relativedelta import relativedelta\n",
    "import random"
   ]
  },
  {
   "cell_type": "code",
   "execution_count": null,
   "metadata": {},
   "outputs": [],
   "source": [
    "big_lot_table_8 = pd.read_csv(r\"C:\\Users\\MichaelDiFelice\\Documents\\Sanofi\\MM\\DATA\\Flatiron\\Big LoT Table\\Big LoT Table.csv\")\n",
    "sct_induction = pd.read_csv(r\"C:\\Users\\MichaelDiFelice\\Documents\\Sanofi\\Python\\Dashboard\\Data\\Data Raw\\SCT_PATS_WITH_MAINT.csv\")\n",
    "\n",
    "def calculate_lookback(lot_df, reference_date):\n",
    "    # Convert STARTDATE to datetime format\n",
    "    lot_df['STARTDATE'] = pd.to_datetime(lot_df['STARTDATE'])\n",
    "\n",
    "    # Filter the rows based on ISFIRSTTREATMENT\n",
    "    first_treatment_data = lot_df[lot_df['ISFIRSTTREATMENT'] == True]\n",
    "\n",
    "    # Create a copy of the filtered data to avoid SettingWithCopyWarning\n",
    "    first_treatment_data_copy = first_treatment_data.copy()\n",
    "\n",
    "    # Calculate the exact difference in months between two dates\n",
    "    def months_difference(start_date, end_date):\n",
    "        delta = relativedelta(end_date, start_date)\n",
    "        return delta.years * 12 + delta.months\n",
    "\n",
    "    # Calculate the lookback in 12-month increments (up to 48 months)\n",
    "    def lookback_periods(months):\n",
    "        if months < 12:\n",
    "            return \"0-12 months\"\n",
    "        elif months < 24:\n",
    "            return \"12-24 months\"\n",
    "        elif months < 36:\n",
    "            return \"24-36 months\"\n",
    "        elif months < 48:\n",
    "            return \"36-48 months\"\n",
    "        else:\n",
    "            return \"more than 48 months\"\n",
    "\n",
    "    # Calculate the exact months since start for each row\n",
    "    first_treatment_data_copy['exact_months_since_start'] = first_treatment_data_copy['STARTDATE'].apply(lambda x: months_difference(x, reference_date))\n",
    "\n",
    "    # Apply the lookback_periods function to determine the lookback based on the exact month difference\n",
    "    first_treatment_data_copy['exact_lookback'] = first_treatment_data_copy['exact_months_since_start'].apply(lookback_periods)\n",
    "\n",
    "    data_final = first_treatment_data_copy[first_treatment_data['LINE_ZERO_FLAG']==0]\n",
    "    \n",
    "    return data_final\n",
    "\n"
   ]
  },
  {
   "cell_type": "code",
   "execution_count": 212,
   "metadata": {},
   "outputs": [],
   "source": [
    "def bundle_regimen(row):\n",
    "    # Line-based conditions\n",
    "    if row['LINENUMBER'] == 1:\n",
    "        # Transplant and regimen conditions within Line 1\n",
    "        if row['TRANSPLANT_FLAG'] == 1 and row['REGIMEN'] == \"DVRd\":\n",
    "            return \"DVRd\"\n",
    "        elif row['TRANSPLANT_FLAG'] == 1 and row['REGIMEN'] == \"DVTd\":\n",
    "            return \"DVTd\"\n",
    "        elif row['TRANSPLANT_FLAG'] == 1 and row['REGIMEN'] == \"VCd\":\n",
    "            return \"VCd\"\n",
    "        elif row['TRANSPLANT_FLAG'] == 1 and row['REGIMEN'] in [\"VRd\", \"VR\", \"Vd\",]:\n",
    "            return \"VRd\"\n",
    "        elif row['TRANSPLANT_FLAG'] == 0 and row['REGIMEN'] in ['D mono','DKd','DKRd','DPd','DVd','DVMp','DVTd','Other D']:\n",
    "            return \"D-other\"\n",
    "        elif row['TRANSPLANT_FLAG'] == 0 and row['REGIMEN'] == 'DRd':\n",
    "            return \"DRd\"\n",
    "        elif row['TRANSPLANT_FLAG'] == 0 and row['REGIMEN'] == 'DVRd':\n",
    "            return \"DVRd\"\n",
    "        elif row['TRANSPLANT_FLAG'] == 0 and row['REGIMEN'] in ['Kd','Pd','Vd']:\n",
    "            return 'Other doublet'\n",
    "        elif row['TRANSPLANT_FLAG'] == 0 and row['REGIMEN'] in ['EPd','ERd','IRd','IsaKd','IsaPd','KPd','KRd','PCd','PVd','VCd','VMp','VTd']:\n",
    "            return 'Other triplet'\n",
    "        elif row['TRANSPLANT_FLAG'] == 0 and row['REGIMEN'] == 'Rd':\n",
    "            return 'Rd'\n",
    "        elif row['TRANSPLANT_FLAG'] == 0 and row['REGIMEN'] == 'VRd':\n",
    "            return 'VRd' \n",
    "\n",
    "    elif row['LINENUMBER'] == 2:\n",
    "        # Transplant and regimen conditions within Line 2\n",
    "        if row['REGIMEN'] in ['D mono','DKRd','DVMp','DVRd','DVTd','Other D']:\n",
    "            return \"D-other\"\n",
    "        elif row['REGIMEN'] == \"DKd\":\n",
    "            return \"DKd\"\n",
    "        elif row['REGIMEN'] == \"DPd\":\n",
    "            return \"DPd\"\n",
    "        elif row['REGIMEN'] == \"DRd\":\n",
    "            return \"DRd\"\n",
    "        elif row['REGIMEN'] == \"DVd\":\n",
    "            return \"DVd\"\n",
    "        elif row['REGIMEN'] == \"IsaKd\":\n",
    "            return \"IsaKd\"\n",
    "        elif row['REGIMEN'] == \"IsaPd\":\n",
    "            return \"IsaPd\"\n",
    "        elif row['REGIMEN'] == 'Rd':\n",
    "            return 'Rd'\n",
    "        elif row[\"REGIMEN\"] in ['ERd','IRd','KRd','VRd']:\n",
    "            return 'R-Triplet'\n",
    "    elif row['LINENUMBER'] == 3:\n",
    "        # Transplant and regimen conditions within Line 2\n",
    "        if row['REGIMEN'] in ['D mono','DKRd','DVMp','DVRd','DVTd','Other D']:\n",
    "            return \"D-other\"\n",
    "        elif row['REGIMEN'] == \"DKd\":\n",
    "            return \"DKd\"\n",
    "        elif row['REGIMEN'] == \"DPd\":\n",
    "            return \"DPd\"\n",
    "        elif row['REGIMEN'] == \"DRd\":\n",
    "            return \"DRd\"\n",
    "        elif row['REGIMEN'] == \"DVd\":\n",
    "            return \"DVd\"\n",
    "        elif row['REGIMEN'] == \"IsaKd\":\n",
    "            return \"IsaKd\"\n",
    "        elif row['REGIMEN'] == \"IsaPd\":\n",
    "            return \"IsaPd\"\n",
    "        elif row['REGIMEN'] == 'Rd':\n",
    "            return 'Rd'\n",
    "        elif row[\"REGIMEN\"] in ['ERd','IRd','KRd','VRd']:\n",
    "            return 'R-Triplet'\n",
    "\n",
    "\n",
    "    # Default return value if none of the conditions are met\n",
    "    return \"Other\"\n",
    "\n",
    "\n"
   ]
  },
  {
   "cell_type": "code",
   "execution_count": 203,
   "metadata": {},
   "outputs": [],
   "source": [
    "def define_regimen_order(data):\n",
    "    data_sorted = data.drop_duplicates(subset=['PATIENTID', 'LINENUMBER'])\n",
    "\n",
    "    # Sort the data by PATIENTID and LINENUMBER to ensure the order\n",
    "    data_sorted = data_sorted.sort_values(by=[\"PATIENTID\", \"LINENUMBER\"])\n",
    "\n",
    "    # Shift the REGIMEN column to get the next regimen for each patient and line\n",
    "    data_sorted[\"NEXT_REGIMEN\"] = data_sorted.groupby(\"PATIENTID\")[\"REGIMEN\"].shift(-1)\n",
    "    data_sorted['PREVIOUS_REGIMEN'] = data_sorted.groupby(\"PATIENTID\")[\"REGIMEN\"].shift(1)\n",
    "    # Fill NaN values in \"NEXT_REGIMEN\" with \"No Advancement\"\n",
    "    data_sorted[\"NEXT_REGIMEN\"].fillna(\"No Advancement\", inplace=True)\n",
    "    data_sorted[\"PREVIOUS_REGIMEN\"].fillna(\"\", inplace=True)\n",
    "\n",
    "\n",
    "    # If NEXT_REGIMEN is 'No Advancement', set NEXT_LINENUMBER to the same as LINENUMBER\n",
    "    # Otherwise, shift the LINENUMBER column to get the next line number for each patient\n",
    "    data_sorted[\"NEXT_LINENUMBER\"] = data_sorted.apply(\n",
    "        lambda row: row[\"LINENUMBER\"] if row[\"NEXT_REGIMEN\"] == \"No Advancement\" else row[\"LINENUMBER\"] + 1, axis=1\n",
    "    )\n",
    "\n",
    "    data_sorted[\"START_YEAR\"] = data_sorted['exact_lookback']\n",
    "\n",
    "    # Filter out rows where the next line is not consecutive (e.g., line 1 followed by line 3) or 'No Advancement'\n",
    "    data_sorted = data_sorted[(data_sorted[\"LINENUMBER\"] + 1 == data_sorted[\"NEXT_LINENUMBER\"]) | (data_sorted[\"NEXT_REGIMEN\"] == \"No Advancement\")]\n",
    "\n",
    "\n",
    "    # Do the same steps above to bundled regimen\n",
    "    data_sorted[\"NEXT_BUNDLE\"] = data_sorted.groupby(\"PATIENTID\")[\"BUNDLED_REGIMEN\"].shift(-1)\n",
    "    data_sorted['PREVIOUS_BUNDLE'] = data_sorted.groupby(\"PATIENTID\")[\"BUNDLED_REGIMEN\"].shift(1)\n",
    "    # Fill NaN values in \"NEXT_REGIMEN\" with \"No Advancement\"\n",
    "    data_sorted[\"NEXT_BUNDLE\"].fillna(\"No Advancement\", inplace=True)\n",
    "    data_sorted[\"PREVIOUS_BUNDLE\"].fillna(\"\", inplace=True)\n",
    "\n",
    "    data_sorted[\"NEXT_LINENUMBER\"] = data_sorted.apply(\n",
    "        lambda row: row[\"LINENUMBER\"] if row[\"NEXT_BUNDLE\"] == \"No Advancement\" else row[\"LINENUMBER\"] + 1, axis=1\n",
    "    )\n",
    "\n",
    "    data_sorted[\"START_YEAR\"] = data_sorted['exact_lookback']\n",
    "\n",
    "    # Filter out rows where the next line is not consecutive (e.g., line 1 followed by line 3) or 'No Advancement'\n",
    "    data_sorted = data_sorted[(data_sorted[\"LINENUMBER\"] + 1 == data_sorted[\"NEXT_LINENUMBER\"]) | (data_sorted[\"NEXT_BUNDLE\"] == \"No Advancement\")]\n",
    "\n",
    "    # For our current task, we only need certain columns\n",
    "    data = data_sorted[[\"PATIENTID\", \"LINENUMBER\", \"REGIMEN\",\"PREVIOUS_REGIMEN\", \"NEXT_REGIMEN\",\"BUNDLED_REGIMEN\",'PREVIOUS_BUNDLE','NEXT_BUNDLE', \"LEN_FLAG\", \"CD38_FLAG\", \"CD38_EXPOSED_FLAG\", \"TRANSPLANT_FLAG\", \"START_YEAR\",\"LEN_REFRACTORY_FLAG\",\"NEXT_LINENUMBER\",\"newline5\"]]\n",
    "\n",
    "    data = data[data['LINENUMBER'].isin([1, 2, 3, 4])]\n",
    "\n",
    "    # Concatenate LINENUMBER to REGIMEN and NEXT_REGIMEN columns\n",
    "    data['BUNDLED_REGIMEN'] = data['BUNDLED_REGIMEN'].astype(str) + data['LINENUMBER'].astype(str)\n",
    "    data['NEXT_BUNDLE'] = data['NEXT_BUNDLE'].astype(str) + (data['LINENUMBER'] + 1).astype(str)\n",
    "    data['PREVIOUS_BUNDLE'] = data['PREVIOUS_BUNDLE'].astype(str) + (data['LINENUMBER'] - 1).astype(str)\n",
    "    data['PREVIOUS_BUNDLE'] = data['PREVIOUS_BUNDLE'].str.replace('0', '')\n",
    "\n",
    "    # Concatenate LINENUMBER to REGIMEN and NEXT_REGIMEN columns\n",
    "    data['REGIMEN'] = data['REGIMEN'].astype(str) + data['LINENUMBER'].astype(str)\n",
    "    data['NEXT_REGIMEN'] = data['NEXT_REGIMEN'].astype(str) + (data['LINENUMBER'] + 1).astype(str)\n",
    "    data['PREVIOUS_REGIMEN'] = data['PREVIOUS_REGIMEN'].astype(str) + (data['LINENUMBER'] - 1).astype(str)\n",
    "    data['PREVIOUS_REGIMEN'] = data['PREVIOUS_REGIMEN'].str.replace('0', '')\n",
    "\n",
    "   \n",
    "    # Turn the data into a cvs in the Modified Data folder    \n",
    "    data.to_csv(r\"C:\\Users\\MichaelDiFelice\\Documents\\Sanofi\\Python\\Dashboard\\Data\\Modified Data\\modified_sankey.csv\", index=False)\n",
    "\n",
    "\n"
   ]
  },
  {
   "cell_type": "code",
   "execution_count": 213,
   "metadata": {},
   "outputs": [],
   "source": [
    "# def merge_data(new_data,old_data):\n",
    "\n",
    "#     merge_data = old_data.merge(\n",
    "#         new_data[['PatientID', 'LineNumber', 'newline5', 'consolidation', 'induction']],\n",
    "#         left_on=['PATIENTID', 'LINENUMBER'],\n",
    "#         right_on=['PatientID', 'LineNumber'],\n",
    "#         how='left'\n",
    "# )\n",
    "#     return merge_data"
   ]
  },
  {
   "cell_type": "code",
   "execution_count": 201,
   "metadata": {},
   "outputs": [],
   "source": []
  },
  {
   "cell_type": "code",
   "execution_count": 214,
   "metadata": {},
   "outputs": [
    {
     "name": "stderr",
     "output_type": "stream",
     "text": [
      "C:\\Users\\MichaelDiFelice\\AppData\\Local\\Temp\\ipykernel_10316\\4091516874.py:46: SettingWithCopyWarning:\n",
      "\n",
      "\n",
      "A value is trying to be set on a copy of a slice from a DataFrame.\n",
      "Try using .loc[row_indexer,col_indexer] = value instead\n",
      "\n",
      "See the caveats in the documentation: https://pandas.pydata.org/pandas-docs/stable/user_guide/indexing.html#returning-a-view-versus-a-copy\n",
      "\n"
     ]
    }
   ],
   "source": [
    "\n",
    "data = pd.read_csv(r\"C:\\Users\\MichaelDiFelice\\Downloads\\flatiron_newlot_v2.csv\")\n",
    "\n",
    "merge_data = big_lot_table_8.merge(\n",
    "    data[['PatientID', 'LineNumber', 'newline5', 'consolidation', 'induction']],\n",
    "    left_on=['PATIENTID', 'LINENUMBER'],\n",
    "    right_on=['PatientID', 'LineNumber'],\n",
    "    how='left'\n",
    ")\n",
    "\n",
    "data_final = calculate_lookback(merge_data, pd.to_datetime('2023-07-31'))\n",
    "\n",
    "data_final['LINENUMBER'] = data_final['newline5'].astype(int)\n",
    "\n",
    "# Apply the function to create the 'bundled_regimen' column\n",
    "data_final['BUNDLED_REGIMEN'] = data_final.apply(bundle_regimen, axis=1)\n",
    "\n",
    "define_regimen_order(data_final)"
   ]
  },
  {
   "cell_type": "code",
   "execution_count": null,
   "metadata": {},
   "outputs": [],
   "source": []
  },
  {
   "cell_type": "code",
   "execution_count": null,
   "metadata": {},
   "outputs": [],
   "source": []
  },
  {
   "cell_type": "code",
   "execution_count": 205,
   "metadata": {},
   "outputs": [],
   "source": [
    "big_lot_table_8 = pd.read_csv(r\"C:\\Users\\MichaelDiFelice\\Documents\\Sanofi\\MM\\DATA\\Flatiron\\Big LoT Table\\Big LoT Table.csv\")"
   ]
  },
  {
   "cell_type": "code",
   "execution_count": 210,
   "metadata": {},
   "outputs": [
    {
     "name": "stderr",
     "output_type": "stream",
     "text": [
      "C:\\Users\\MichaelDiFelice\\AppData\\Local\\Temp\\ipykernel_10316\\437062934.py:39: SettingWithCopyWarning:\n",
      "\n",
      "\n",
      "A value is trying to be set on a copy of a slice from a DataFrame\n",
      "\n",
      "See the caveats in the documentation: https://pandas.pydata.org/pandas-docs/stable/user_guide/indexing.html#returning-a-view-versus-a-copy\n",
      "\n"
     ]
    }
   ],
   "source": [
    "# Step 1: Filter Patients with Line 1 Transplant\n",
    "transplant_patients = big_lot_table_8[(big_lot_table_8['COMBINEDLINE'].str.contains('Transplant', case=False)) & \n",
    "                                    (big_lot_table_8['LINENUMBER'] == 1)]\n",
    "\n",
    "# Extracting patients' IDs\n",
    "transplant_patient_ids = transplant_patients['PATIENTID'].unique()\n",
    "\n",
    "# Step 2: Identify Induction Regimen\n",
    "induction_data = big_lot_table_8[(big_lot_table_8['PATIENTID'].isin(transplant_patient_ids)) & \n",
    "                               (big_lot_table_8['ISFIRSTTREATMENT'] == 1) &\n",
    "                               (big_lot_table_8['LINENUMBER'] == 1)][['PATIENTID', 'REGIMEN', 'STARTDATE', 'ENDDATE']]\n",
    "\n",
    "# Step 3: Identify Maintenance Therapy\n",
    "maintenance_data = big_lot_table_8[(big_lot_table_8['PATIENTID'].isin(transplant_patient_ids)) & \n",
    "                                 (big_lot_table_8['ISMAINTENANCETHERAPY'] == True)].sort_values('STARTDATE', ascending=False).drop_duplicates('PATIENTID')\n",
    "\n",
    "# Step 4: Identify Line 2 Regimen with updated criteria\n",
    "line2_data = big_lot_table_8[(big_lot_table_8['PATIENTID'].isin(transplant_patient_ids)) & \n",
    "                           (big_lot_table_8['LINENUMBER'] == 2) & \n",
    "                           (big_lot_table_8['ISFIRSTTREATMENT'] == 1)][['PATIENTID', 'REGIMEN', 'STARTDATE', 'ENDDATE']]\n",
    "\n",
    "# Merge the data for a complete view\n",
    "merged_data = induction_data.merge(maintenance_data[['PATIENTID', 'REGIMEN', 'STARTDATE', 'ENDDATE']], on='PATIENTID', how='left', suffixes=('_induction', '_maintenance')).merge(line2_data, on='PATIENTID', how='left', suffixes=('', '_line2'))\n",
    "\n",
    "# Filter the dataset to the specified date range\n",
    "filtered_data = merged_data[(merged_data['STARTDATE'] >= '2022-07-31') & (merged_data['STARTDATE'] <= '2023-07-31')]\n",
    "\n",
    "# Extracting the CD38_FLAG for the patients in our filtered dataset\n",
    "cd38_flags = big_lot_table_8[big_lot_table_8['PATIENTID'].isin(filtered_data['PATIENTID']) & \n",
    "                           (big_lot_table_8['LINENUMBER'] == 2)][['PATIENTID', 'CD38_FLAG']]\n",
    "\n",
    "# Merging the CD38_FLAG with our filtered dataset\n",
    "filtered_data_with_cd38 = filtered_data.merge(cd38_flags, on='PATIENTID', how='left')\n",
    "\n",
    "# Filtering the dataset to include only patients with a CD38 flag in Line 2\n",
    "cd38_filtered_data_corrected = filtered_data_with_cd38[filtered_data_with_cd38['CD38_FLAG'] == 1]\n",
    "\n",
    "# Filling NA values in the 'REGIMEN_maintenance' column with 'No Maintenance'\n",
    "cd38_filtered_data_corrected['REGIMEN_maintenance'].fillna('No Maintenance', inplace=True)\n",
    "\n",
    "# Drop duplicate rows based on PATIENTID\n",
    "cd38_filtered_data= cd38_filtered_data_corrected.drop_duplicates(subset=['PATIENTID'])\n",
    "\n",
    "\n"
   ]
  },
  {
   "cell_type": "code",
   "execution_count": 215,
   "metadata": {},
   "outputs": [
    {
     "data": {
      "application/vnd.plotly.v1+json": {
       "config": {
        "plotlyServerURL": "https://plot.ly"
       },
       "data": [
        {
         "link": {
          "color": [
           "rgba(79, 158, 213, 1)",
           "rgba(79, 158, 213, 1)",
           "rgba(79, 158, 213, 1)",
           "rgba(79, 158, 213, 1)",
           "rgba(122, 30, 144, 1)",
           "rgba(122, 30, 144, 1)",
           "rgba(122, 30, 144, 1)",
           "rgba(122, 30, 144, 1)",
           "rgba(122, 30, 144, 1)",
           "rgba(122, 30, 144, 1)",
           "rgba(122, 30, 144, 1)",
           "rgba(122, 30, 144, 1)",
           "rgba(122, 30, 144, 1)",
           "rgba(122, 30, 144, 1)",
           "rgba(122, 30, 144, 1)",
           "rgba(224, 9, 178, 1)",
           "rgba(32, 63, 56, 1)",
           "rgba(32, 63, 56, 1)",
           "rgba(220, 116, 116, 1)",
           "rgba(220, 116, 116, 1)",
           "rgba(81, 216, 12, 1)",
           "rgba(81, 216, 12, 1)",
           "rgba(81, 216, 12, 1)",
           "rgba(79, 222, 222, 1)",
           "rgba(79, 222, 222, 1)",
           "rgba(79, 222, 222, 1)",
           "rgba(79, 222, 222, 1)",
           "rgba(79, 222, 222, 1)",
           "rgba(79, 222, 222, 1)",
           "rgba(79, 222, 222, 1)",
           "rgba(79, 222, 222, 1)",
           "rgba(79, 222, 222, 1)",
           "rgba(79, 222, 222, 1)",
           "rgba(79, 222, 222, 1)",
           "rgba(79, 222, 222, 1)",
           "rgba(79, 222, 222, 1)",
           "rgba(79, 222, 222, 1)",
           "rgba(79, 222, 222, 1)",
           "rgba(79, 222, 222, 1)",
           "rgba(79, 222, 222, 1)",
           "rgba(196, 202, 150, 1)",
           "rgba(128, 189, 93, 1)",
           "rgba(158, 189, 177, 1)",
           "rgba(158, 189, 177, 1)",
           "rgba(237, 222, 98, 1)",
           "rgba(128, 189, 93, 1)",
           "rgba(128, 189, 93, 1)",
           "rgba(158, 189, 177, 1)",
           "rgba(158, 189, 177, 1)",
           "rgba(158, 189, 177, 1)",
           "rgba(158, 189, 177, 1)",
           "rgba(158, 189, 177, 1)",
           "rgba(207, 180, 34, 1)",
           "rgba(207, 180, 34, 1)",
           "rgba(207, 180, 34, 1)",
           "rgba(237, 222, 98, 1)",
           "rgba(128, 189, 93, 1)",
           "rgba(158, 189, 177, 1)",
           "rgba(158, 189, 177, 1)",
           "rgba(158, 189, 177, 1)",
           "rgba(207, 180, 34, 1)",
           "rgba(128, 189, 93, 1)",
           "rgba(207, 180, 34, 1)",
           "rgba(237, 222, 98, 1)",
           "rgba(128, 189, 93, 1)",
           "rgba(158, 189, 177, 1)",
           "rgba(158, 189, 177, 1)",
           "rgba(158, 189, 177, 1)",
           "rgba(207, 180, 34, 1)",
           "rgba(207, 180, 34, 1)",
           "rgba(207, 180, 34, 1)",
           "rgba(207, 180, 34, 1)",
           "rgba(207, 180, 34, 1)",
           "rgba(207, 180, 34, 1)",
           "rgba(207, 180, 34, 1)",
           "rgba(207, 180, 34, 1)",
           "rgba(207, 180, 34, 1)",
           "rgba(207, 180, 34, 1)",
           "rgba(237, 222, 98, 1)",
           "rgba(237, 222, 98, 1)",
           "rgba(237, 222, 98, 1)",
           "rgba(207, 180, 34, 1)"
          ],
          "source": [
           0,
           0,
           0,
           0,
           4,
           4,
           4,
           4,
           4,
           4,
           4,
           4,
           4,
           4,
           4,
           6,
           7,
           7,
           8,
           8,
           9,
           9,
           9,
           10,
           10,
           10,
           10,
           10,
           10,
           10,
           10,
           10,
           10,
           10,
           10,
           10,
           10,
           10,
           10,
           10,
           11,
           1,
           2,
           2,
           3,
           1,
           1,
           2,
           2,
           2,
           2,
           2,
           5,
           5,
           5,
           3,
           1,
           2,
           2,
           2,
           5,
           1,
           5,
           3,
           1,
           2,
           2,
           2,
           5,
           5,
           5,
           5,
           5,
           5,
           5,
           5,
           5,
           5,
           3,
           3,
           3,
           5
          ],
          "target": [
           1,
           2,
           2,
           3,
           1,
           1,
           2,
           2,
           2,
           2,
           2,
           5,
           5,
           5,
           3,
           1,
           2,
           2,
           2,
           5,
           1,
           5,
           3,
           1,
           2,
           2,
           2,
           5,
           5,
           5,
           5,
           5,
           5,
           5,
           5,
           5,
           5,
           3,
           3,
           3,
           5,
           12,
           12,
           13,
           12,
           14,
           12,
           14,
           12,
           15,
           16,
           17,
           18,
           12,
           16,
           18,
           12,
           18,
           12,
           12,
           19,
           16,
           12,
           20,
           18,
           19,
           15,
           16,
           14,
           21,
           19,
           18,
           12,
           15,
           20,
           13,
           22,
           17,
           19,
           18,
           12,
           18
          ],
          "value": [
           1,
           1,
           1,
           1,
           2,
           1,
           1,
           5,
           3,
           2,
           1,
           1,
           2,
           1,
           1,
           1,
           1,
           1,
           1,
           1,
           1,
           1,
           1,
           1,
           2,
           1,
           1,
           2,
           1,
           6,
           10,
           2,
           2,
           2,
           1,
           1,
           1,
           1,
           1,
           1,
           1,
           1,
           1,
           1,
           1,
           2,
           1,
           1,
           5,
           3,
           2,
           1,
           1,
           2,
           1,
           1,
           1,
           1,
           1,
           1,
           1,
           1,
           1,
           1,
           1,
           2,
           1,
           1,
           2,
           1,
           6,
           10,
           2,
           2,
           2,
           1,
           1,
           1,
           1,
           1,
           1,
           1
          ]
         },
         "node": {
          "color": [
           "rgba(79, 158, 213, 1)",
           "rgba(128, 189, 93, 1)",
           "rgba(158, 189, 177, 1)",
           "rgba(237, 222, 98, 1)",
           "rgba(122, 30, 144, 1)",
           "rgba(207, 180, 34, 1)",
           "rgba(224, 9, 178, 1)",
           "rgba(32, 63, 56, 1)",
           "rgba(220, 116, 116, 1)",
           "rgba(81, 216, 12, 1)",
           "rgba(79, 222, 222, 1)",
           "rgba(196, 202, 150, 1)",
           "rgba(45, 136, 254, 1)",
           "rgba(221, 238, 13, 1)",
           "rgba(128, 189, 93, 1)",
           "rgba(122, 30, 144, 1)",
           "rgba(55, 130, 148, 1)",
           "rgba(223, 244, 120, 1)",
           "rgba(17, 89, 186, 1)",
           "rgba(219, 91, 58, 1)",
           "rgba(104, 188, 109, 1)",
           "rgba(112, 148, 180, 1)",
           "rgba(148, 234, 15, 1)"
          ],
          "label": [
           "Cd",
           "D Mono",
           "No Maintenance",
           "V mono",
           "DVRd",
           "R mono",
           "IRd",
           "KRd",
           "Rd",
           "VCd",
           "VRd",
           "Vd",
           "DRd",
           "IsaKd",
           "D Mono",
           "DVRd",
           "Dd",
           "VR",
           "DPd",
           "DKd",
           "DVd",
           "DKRd",
           "PVd"
          ],
          "line": {
           "color": "black",
           "width": 0.5
          },
          "pad": 15,
          "thickness": 20
         },
         "type": "sankey"
        }
       ],
       "layout": {
        "template": {
         "data": {
          "bar": [
           {
            "error_x": {
             "color": "#2a3f5f"
            },
            "error_y": {
             "color": "#2a3f5f"
            },
            "marker": {
             "line": {
              "color": "#E5ECF6",
              "width": 0.5
             },
             "pattern": {
              "fillmode": "overlay",
              "size": 10,
              "solidity": 0.2
             }
            },
            "type": "bar"
           }
          ],
          "barpolar": [
           {
            "marker": {
             "line": {
              "color": "#E5ECF6",
              "width": 0.5
             },
             "pattern": {
              "fillmode": "overlay",
              "size": 10,
              "solidity": 0.2
             }
            },
            "type": "barpolar"
           }
          ],
          "carpet": [
           {
            "aaxis": {
             "endlinecolor": "#2a3f5f",
             "gridcolor": "white",
             "linecolor": "white",
             "minorgridcolor": "white",
             "startlinecolor": "#2a3f5f"
            },
            "baxis": {
             "endlinecolor": "#2a3f5f",
             "gridcolor": "white",
             "linecolor": "white",
             "minorgridcolor": "white",
             "startlinecolor": "#2a3f5f"
            },
            "type": "carpet"
           }
          ],
          "choropleth": [
           {
            "colorbar": {
             "outlinewidth": 0,
             "ticks": ""
            },
            "type": "choropleth"
           }
          ],
          "contour": [
           {
            "colorbar": {
             "outlinewidth": 0,
             "ticks": ""
            },
            "colorscale": [
             [
              0,
              "#0d0887"
             ],
             [
              0.1111111111111111,
              "#46039f"
             ],
             [
              0.2222222222222222,
              "#7201a8"
             ],
             [
              0.3333333333333333,
              "#9c179e"
             ],
             [
              0.4444444444444444,
              "#bd3786"
             ],
             [
              0.5555555555555556,
              "#d8576b"
             ],
             [
              0.6666666666666666,
              "#ed7953"
             ],
             [
              0.7777777777777778,
              "#fb9f3a"
             ],
             [
              0.8888888888888888,
              "#fdca26"
             ],
             [
              1,
              "#f0f921"
             ]
            ],
            "type": "contour"
           }
          ],
          "contourcarpet": [
           {
            "colorbar": {
             "outlinewidth": 0,
             "ticks": ""
            },
            "type": "contourcarpet"
           }
          ],
          "heatmap": [
           {
            "colorbar": {
             "outlinewidth": 0,
             "ticks": ""
            },
            "colorscale": [
             [
              0,
              "#0d0887"
             ],
             [
              0.1111111111111111,
              "#46039f"
             ],
             [
              0.2222222222222222,
              "#7201a8"
             ],
             [
              0.3333333333333333,
              "#9c179e"
             ],
             [
              0.4444444444444444,
              "#bd3786"
             ],
             [
              0.5555555555555556,
              "#d8576b"
             ],
             [
              0.6666666666666666,
              "#ed7953"
             ],
             [
              0.7777777777777778,
              "#fb9f3a"
             ],
             [
              0.8888888888888888,
              "#fdca26"
             ],
             [
              1,
              "#f0f921"
             ]
            ],
            "type": "heatmap"
           }
          ],
          "heatmapgl": [
           {
            "colorbar": {
             "outlinewidth": 0,
             "ticks": ""
            },
            "colorscale": [
             [
              0,
              "#0d0887"
             ],
             [
              0.1111111111111111,
              "#46039f"
             ],
             [
              0.2222222222222222,
              "#7201a8"
             ],
             [
              0.3333333333333333,
              "#9c179e"
             ],
             [
              0.4444444444444444,
              "#bd3786"
             ],
             [
              0.5555555555555556,
              "#d8576b"
             ],
             [
              0.6666666666666666,
              "#ed7953"
             ],
             [
              0.7777777777777778,
              "#fb9f3a"
             ],
             [
              0.8888888888888888,
              "#fdca26"
             ],
             [
              1,
              "#f0f921"
             ]
            ],
            "type": "heatmapgl"
           }
          ],
          "histogram": [
           {
            "marker": {
             "pattern": {
              "fillmode": "overlay",
              "size": 10,
              "solidity": 0.2
             }
            },
            "type": "histogram"
           }
          ],
          "histogram2d": [
           {
            "colorbar": {
             "outlinewidth": 0,
             "ticks": ""
            },
            "colorscale": [
             [
              0,
              "#0d0887"
             ],
             [
              0.1111111111111111,
              "#46039f"
             ],
             [
              0.2222222222222222,
              "#7201a8"
             ],
             [
              0.3333333333333333,
              "#9c179e"
             ],
             [
              0.4444444444444444,
              "#bd3786"
             ],
             [
              0.5555555555555556,
              "#d8576b"
             ],
             [
              0.6666666666666666,
              "#ed7953"
             ],
             [
              0.7777777777777778,
              "#fb9f3a"
             ],
             [
              0.8888888888888888,
              "#fdca26"
             ],
             [
              1,
              "#f0f921"
             ]
            ],
            "type": "histogram2d"
           }
          ],
          "histogram2dcontour": [
           {
            "colorbar": {
             "outlinewidth": 0,
             "ticks": ""
            },
            "colorscale": [
             [
              0,
              "#0d0887"
             ],
             [
              0.1111111111111111,
              "#46039f"
             ],
             [
              0.2222222222222222,
              "#7201a8"
             ],
             [
              0.3333333333333333,
              "#9c179e"
             ],
             [
              0.4444444444444444,
              "#bd3786"
             ],
             [
              0.5555555555555556,
              "#d8576b"
             ],
             [
              0.6666666666666666,
              "#ed7953"
             ],
             [
              0.7777777777777778,
              "#fb9f3a"
             ],
             [
              0.8888888888888888,
              "#fdca26"
             ],
             [
              1,
              "#f0f921"
             ]
            ],
            "type": "histogram2dcontour"
           }
          ],
          "mesh3d": [
           {
            "colorbar": {
             "outlinewidth": 0,
             "ticks": ""
            },
            "type": "mesh3d"
           }
          ],
          "parcoords": [
           {
            "line": {
             "colorbar": {
              "outlinewidth": 0,
              "ticks": ""
             }
            },
            "type": "parcoords"
           }
          ],
          "pie": [
           {
            "automargin": true,
            "type": "pie"
           }
          ],
          "scatter": [
           {
            "fillpattern": {
             "fillmode": "overlay",
             "size": 10,
             "solidity": 0.2
            },
            "type": "scatter"
           }
          ],
          "scatter3d": [
           {
            "line": {
             "colorbar": {
              "outlinewidth": 0,
              "ticks": ""
             }
            },
            "marker": {
             "colorbar": {
              "outlinewidth": 0,
              "ticks": ""
             }
            },
            "type": "scatter3d"
           }
          ],
          "scattercarpet": [
           {
            "marker": {
             "colorbar": {
              "outlinewidth": 0,
              "ticks": ""
             }
            },
            "type": "scattercarpet"
           }
          ],
          "scattergeo": [
           {
            "marker": {
             "colorbar": {
              "outlinewidth": 0,
              "ticks": ""
             }
            },
            "type": "scattergeo"
           }
          ],
          "scattergl": [
           {
            "marker": {
             "colorbar": {
              "outlinewidth": 0,
              "ticks": ""
             }
            },
            "type": "scattergl"
           }
          ],
          "scattermapbox": [
           {
            "marker": {
             "colorbar": {
              "outlinewidth": 0,
              "ticks": ""
             }
            },
            "type": "scattermapbox"
           }
          ],
          "scatterpolar": [
           {
            "marker": {
             "colorbar": {
              "outlinewidth": 0,
              "ticks": ""
             }
            },
            "type": "scatterpolar"
           }
          ],
          "scatterpolargl": [
           {
            "marker": {
             "colorbar": {
              "outlinewidth": 0,
              "ticks": ""
             }
            },
            "type": "scatterpolargl"
           }
          ],
          "scatterternary": [
           {
            "marker": {
             "colorbar": {
              "outlinewidth": 0,
              "ticks": ""
             }
            },
            "type": "scatterternary"
           }
          ],
          "surface": [
           {
            "colorbar": {
             "outlinewidth": 0,
             "ticks": ""
            },
            "colorscale": [
             [
              0,
              "#0d0887"
             ],
             [
              0.1111111111111111,
              "#46039f"
             ],
             [
              0.2222222222222222,
              "#7201a8"
             ],
             [
              0.3333333333333333,
              "#9c179e"
             ],
             [
              0.4444444444444444,
              "#bd3786"
             ],
             [
              0.5555555555555556,
              "#d8576b"
             ],
             [
              0.6666666666666666,
              "#ed7953"
             ],
             [
              0.7777777777777778,
              "#fb9f3a"
             ],
             [
              0.8888888888888888,
              "#fdca26"
             ],
             [
              1,
              "#f0f921"
             ]
            ],
            "type": "surface"
           }
          ],
          "table": [
           {
            "cells": {
             "fill": {
              "color": "#EBF0F8"
             },
             "line": {
              "color": "white"
             }
            },
            "header": {
             "fill": {
              "color": "#C8D4E3"
             },
             "line": {
              "color": "white"
             }
            },
            "type": "table"
           }
          ]
         },
         "layout": {
          "annotationdefaults": {
           "arrowcolor": "#2a3f5f",
           "arrowhead": 0,
           "arrowwidth": 1
          },
          "autotypenumbers": "strict",
          "coloraxis": {
           "colorbar": {
            "outlinewidth": 0,
            "ticks": ""
           }
          },
          "colorscale": {
           "diverging": [
            [
             0,
             "#8e0152"
            ],
            [
             0.1,
             "#c51b7d"
            ],
            [
             0.2,
             "#de77ae"
            ],
            [
             0.3,
             "#f1b6da"
            ],
            [
             0.4,
             "#fde0ef"
            ],
            [
             0.5,
             "#f7f7f7"
            ],
            [
             0.6,
             "#e6f5d0"
            ],
            [
             0.7,
             "#b8e186"
            ],
            [
             0.8,
             "#7fbc41"
            ],
            [
             0.9,
             "#4d9221"
            ],
            [
             1,
             "#276419"
            ]
           ],
           "sequential": [
            [
             0,
             "#0d0887"
            ],
            [
             0.1111111111111111,
             "#46039f"
            ],
            [
             0.2222222222222222,
             "#7201a8"
            ],
            [
             0.3333333333333333,
             "#9c179e"
            ],
            [
             0.4444444444444444,
             "#bd3786"
            ],
            [
             0.5555555555555556,
             "#d8576b"
            ],
            [
             0.6666666666666666,
             "#ed7953"
            ],
            [
             0.7777777777777778,
             "#fb9f3a"
            ],
            [
             0.8888888888888888,
             "#fdca26"
            ],
            [
             1,
             "#f0f921"
            ]
           ],
           "sequentialminus": [
            [
             0,
             "#0d0887"
            ],
            [
             0.1111111111111111,
             "#46039f"
            ],
            [
             0.2222222222222222,
             "#7201a8"
            ],
            [
             0.3333333333333333,
             "#9c179e"
            ],
            [
             0.4444444444444444,
             "#bd3786"
            ],
            [
             0.5555555555555556,
             "#d8576b"
            ],
            [
             0.6666666666666666,
             "#ed7953"
            ],
            [
             0.7777777777777778,
             "#fb9f3a"
            ],
            [
             0.8888888888888888,
             "#fdca26"
            ],
            [
             1,
             "#f0f921"
            ]
           ]
          },
          "colorway": [
           "#636efa",
           "#EF553B",
           "#00cc96",
           "#ab63fa",
           "#FFA15A",
           "#19d3f3",
           "#FF6692",
           "#B6E880",
           "#FF97FF",
           "#FECB52"
          ],
          "font": {
           "color": "#2a3f5f"
          },
          "geo": {
           "bgcolor": "white",
           "lakecolor": "white",
           "landcolor": "#E5ECF6",
           "showlakes": true,
           "showland": true,
           "subunitcolor": "white"
          },
          "hoverlabel": {
           "align": "left"
          },
          "hovermode": "closest",
          "mapbox": {
           "style": "light"
          },
          "paper_bgcolor": "white",
          "plot_bgcolor": "#E5ECF6",
          "polar": {
           "angularaxis": {
            "gridcolor": "white",
            "linecolor": "white",
            "ticks": ""
           },
           "bgcolor": "#E5ECF6",
           "radialaxis": {
            "gridcolor": "white",
            "linecolor": "white",
            "ticks": ""
           }
          },
          "scene": {
           "xaxis": {
            "backgroundcolor": "#E5ECF6",
            "gridcolor": "white",
            "gridwidth": 2,
            "linecolor": "white",
            "showbackground": true,
            "ticks": "",
            "zerolinecolor": "white"
           },
           "yaxis": {
            "backgroundcolor": "#E5ECF6",
            "gridcolor": "white",
            "gridwidth": 2,
            "linecolor": "white",
            "showbackground": true,
            "ticks": "",
            "zerolinecolor": "white"
           },
           "zaxis": {
            "backgroundcolor": "#E5ECF6",
            "gridcolor": "white",
            "gridwidth": 2,
            "linecolor": "white",
            "showbackground": true,
            "ticks": "",
            "zerolinecolor": "white"
           }
          },
          "shapedefaults": {
           "line": {
            "color": "#2a3f5f"
           }
          },
          "ternary": {
           "aaxis": {
            "gridcolor": "white",
            "linecolor": "white",
            "ticks": ""
           },
           "baxis": {
            "gridcolor": "white",
            "linecolor": "white",
            "ticks": ""
           },
           "bgcolor": "#E5ECF6",
           "caxis": {
            "gridcolor": "white",
            "linecolor": "white",
            "ticks": ""
           }
          },
          "title": {
           "x": 0.05
          },
          "xaxis": {
           "automargin": true,
           "gridcolor": "white",
           "linecolor": "white",
           "ticks": "",
           "title": {
            "standoff": 15
           },
           "zerolinecolor": "white",
           "zerolinewidth": 2
          },
          "yaxis": {
           "automargin": true,
           "gridcolor": "white",
           "linecolor": "white",
           "ticks": "",
           "title": {
            "standoff": 15
           },
           "zerolinecolor": "white",
           "zerolinewidth": 2
          }
         }
        }
       }
      },
      "text/html": [
       "<div>                            <div id=\"c3898894-5f26-448d-83f2-40ed9274f29f\" class=\"plotly-graph-div\" style=\"height:525px; width:100%;\"></div>            <script type=\"text/javascript\">                require([\"plotly\"], function(Plotly) {                    window.PLOTLYENV=window.PLOTLYENV || {};                                    if (document.getElementById(\"c3898894-5f26-448d-83f2-40ed9274f29f\")) {                    Plotly.newPlot(                        \"c3898894-5f26-448d-83f2-40ed9274f29f\",                        [{\"link\":{\"color\":[\"rgba(79, 158, 213, 1)\",\"rgba(79, 158, 213, 1)\",\"rgba(79, 158, 213, 1)\",\"rgba(79, 158, 213, 1)\",\"rgba(122, 30, 144, 1)\",\"rgba(122, 30, 144, 1)\",\"rgba(122, 30, 144, 1)\",\"rgba(122, 30, 144, 1)\",\"rgba(122, 30, 144, 1)\",\"rgba(122, 30, 144, 1)\",\"rgba(122, 30, 144, 1)\",\"rgba(122, 30, 144, 1)\",\"rgba(122, 30, 144, 1)\",\"rgba(122, 30, 144, 1)\",\"rgba(122, 30, 144, 1)\",\"rgba(224, 9, 178, 1)\",\"rgba(32, 63, 56, 1)\",\"rgba(32, 63, 56, 1)\",\"rgba(220, 116, 116, 1)\",\"rgba(220, 116, 116, 1)\",\"rgba(81, 216, 12, 1)\",\"rgba(81, 216, 12, 1)\",\"rgba(81, 216, 12, 1)\",\"rgba(79, 222, 222, 1)\",\"rgba(79, 222, 222, 1)\",\"rgba(79, 222, 222, 1)\",\"rgba(79, 222, 222, 1)\",\"rgba(79, 222, 222, 1)\",\"rgba(79, 222, 222, 1)\",\"rgba(79, 222, 222, 1)\",\"rgba(79, 222, 222, 1)\",\"rgba(79, 222, 222, 1)\",\"rgba(79, 222, 222, 1)\",\"rgba(79, 222, 222, 1)\",\"rgba(79, 222, 222, 1)\",\"rgba(79, 222, 222, 1)\",\"rgba(79, 222, 222, 1)\",\"rgba(79, 222, 222, 1)\",\"rgba(79, 222, 222, 1)\",\"rgba(79, 222, 222, 1)\",\"rgba(196, 202, 150, 1)\",\"rgba(128, 189, 93, 1)\",\"rgba(158, 189, 177, 1)\",\"rgba(158, 189, 177, 1)\",\"rgba(237, 222, 98, 1)\",\"rgba(128, 189, 93, 1)\",\"rgba(128, 189, 93, 1)\",\"rgba(158, 189, 177, 1)\",\"rgba(158, 189, 177, 1)\",\"rgba(158, 189, 177, 1)\",\"rgba(158, 189, 177, 1)\",\"rgba(158, 189, 177, 1)\",\"rgba(207, 180, 34, 1)\",\"rgba(207, 180, 34, 1)\",\"rgba(207, 180, 34, 1)\",\"rgba(237, 222, 98, 1)\",\"rgba(128, 189, 93, 1)\",\"rgba(158, 189, 177, 1)\",\"rgba(158, 189, 177, 1)\",\"rgba(158, 189, 177, 1)\",\"rgba(207, 180, 34, 1)\",\"rgba(128, 189, 93, 1)\",\"rgba(207, 180, 34, 1)\",\"rgba(237, 222, 98, 1)\",\"rgba(128, 189, 93, 1)\",\"rgba(158, 189, 177, 1)\",\"rgba(158, 189, 177, 1)\",\"rgba(158, 189, 177, 1)\",\"rgba(207, 180, 34, 1)\",\"rgba(207, 180, 34, 1)\",\"rgba(207, 180, 34, 1)\",\"rgba(207, 180, 34, 1)\",\"rgba(207, 180, 34, 1)\",\"rgba(207, 180, 34, 1)\",\"rgba(207, 180, 34, 1)\",\"rgba(207, 180, 34, 1)\",\"rgba(207, 180, 34, 1)\",\"rgba(207, 180, 34, 1)\",\"rgba(237, 222, 98, 1)\",\"rgba(237, 222, 98, 1)\",\"rgba(237, 222, 98, 1)\",\"rgba(207, 180, 34, 1)\"],\"source\":[0,0,0,0,4,4,4,4,4,4,4,4,4,4,4,6,7,7,8,8,9,9,9,10,10,10,10,10,10,10,10,10,10,10,10,10,10,10,10,10,11,1,2,2,3,1,1,2,2,2,2,2,5,5,5,3,1,2,2,2,5,1,5,3,1,2,2,2,5,5,5,5,5,5,5,5,5,5,3,3,3,5],\"target\":[1,2,2,3,1,1,2,2,2,2,2,5,5,5,3,1,2,2,2,5,1,5,3,1,2,2,2,5,5,5,5,5,5,5,5,5,5,3,3,3,5,12,12,13,12,14,12,14,12,15,16,17,18,12,16,18,12,18,12,12,19,16,12,20,18,19,15,16,14,21,19,18,12,15,20,13,22,17,19,18,12,18],\"value\":[1,1,1,1,2,1,1,5,3,2,1,1,2,1,1,1,1,1,1,1,1,1,1,1,2,1,1,2,1,6,10,2,2,2,1,1,1,1,1,1,1,1,1,1,1,2,1,1,5,3,2,1,1,2,1,1,1,1,1,1,1,1,1,1,1,2,1,1,2,1,6,10,2,2,2,1,1,1,1,1,1,1]},\"node\":{\"color\":[\"rgba(79, 158, 213, 1)\",\"rgba(128, 189, 93, 1)\",\"rgba(158, 189, 177, 1)\",\"rgba(237, 222, 98, 1)\",\"rgba(122, 30, 144, 1)\",\"rgba(207, 180, 34, 1)\",\"rgba(224, 9, 178, 1)\",\"rgba(32, 63, 56, 1)\",\"rgba(220, 116, 116, 1)\",\"rgba(81, 216, 12, 1)\",\"rgba(79, 222, 222, 1)\",\"rgba(196, 202, 150, 1)\",\"rgba(45, 136, 254, 1)\",\"rgba(221, 238, 13, 1)\",\"rgba(128, 189, 93, 1)\",\"rgba(122, 30, 144, 1)\",\"rgba(55, 130, 148, 1)\",\"rgba(223, 244, 120, 1)\",\"rgba(17, 89, 186, 1)\",\"rgba(219, 91, 58, 1)\",\"rgba(104, 188, 109, 1)\",\"rgba(112, 148, 180, 1)\",\"rgba(148, 234, 15, 1)\"],\"label\":[\"Cd\",\"D Mono\",\"No Maintenance\",\"V mono\",\"DVRd\",\"R mono\",\"IRd\",\"KRd\",\"Rd\",\"VCd\",\"VRd\",\"Vd\",\"DRd\",\"IsaKd\",\"D Mono\",\"DVRd\",\"Dd\",\"VR\",\"DPd\",\"DKd\",\"DVd\",\"DKRd\",\"PVd\"],\"line\":{\"color\":\"black\",\"width\":0.5},\"pad\":15,\"thickness\":20},\"type\":\"sankey\"}],                        {\"template\":{\"data\":{\"histogram2dcontour\":[{\"type\":\"histogram2dcontour\",\"colorbar\":{\"outlinewidth\":0,\"ticks\":\"\"},\"colorscale\":[[0.0,\"#0d0887\"],[0.1111111111111111,\"#46039f\"],[0.2222222222222222,\"#7201a8\"],[0.3333333333333333,\"#9c179e\"],[0.4444444444444444,\"#bd3786\"],[0.5555555555555556,\"#d8576b\"],[0.6666666666666666,\"#ed7953\"],[0.7777777777777778,\"#fb9f3a\"],[0.8888888888888888,\"#fdca26\"],[1.0,\"#f0f921\"]]}],\"choropleth\":[{\"type\":\"choropleth\",\"colorbar\":{\"outlinewidth\":0,\"ticks\":\"\"}}],\"histogram2d\":[{\"type\":\"histogram2d\",\"colorbar\":{\"outlinewidth\":0,\"ticks\":\"\"},\"colorscale\":[[0.0,\"#0d0887\"],[0.1111111111111111,\"#46039f\"],[0.2222222222222222,\"#7201a8\"],[0.3333333333333333,\"#9c179e\"],[0.4444444444444444,\"#bd3786\"],[0.5555555555555556,\"#d8576b\"],[0.6666666666666666,\"#ed7953\"],[0.7777777777777778,\"#fb9f3a\"],[0.8888888888888888,\"#fdca26\"],[1.0,\"#f0f921\"]]}],\"heatmap\":[{\"type\":\"heatmap\",\"colorbar\":{\"outlinewidth\":0,\"ticks\":\"\"},\"colorscale\":[[0.0,\"#0d0887\"],[0.1111111111111111,\"#46039f\"],[0.2222222222222222,\"#7201a8\"],[0.3333333333333333,\"#9c179e\"],[0.4444444444444444,\"#bd3786\"],[0.5555555555555556,\"#d8576b\"],[0.6666666666666666,\"#ed7953\"],[0.7777777777777778,\"#fb9f3a\"],[0.8888888888888888,\"#fdca26\"],[1.0,\"#f0f921\"]]}],\"heatmapgl\":[{\"type\":\"heatmapgl\",\"colorbar\":{\"outlinewidth\":0,\"ticks\":\"\"},\"colorscale\":[[0.0,\"#0d0887\"],[0.1111111111111111,\"#46039f\"],[0.2222222222222222,\"#7201a8\"],[0.3333333333333333,\"#9c179e\"],[0.4444444444444444,\"#bd3786\"],[0.5555555555555556,\"#d8576b\"],[0.6666666666666666,\"#ed7953\"],[0.7777777777777778,\"#fb9f3a\"],[0.8888888888888888,\"#fdca26\"],[1.0,\"#f0f921\"]]}],\"contourcarpet\":[{\"type\":\"contourcarpet\",\"colorbar\":{\"outlinewidth\":0,\"ticks\":\"\"}}],\"contour\":[{\"type\":\"contour\",\"colorbar\":{\"outlinewidth\":0,\"ticks\":\"\"},\"colorscale\":[[0.0,\"#0d0887\"],[0.1111111111111111,\"#46039f\"],[0.2222222222222222,\"#7201a8\"],[0.3333333333333333,\"#9c179e\"],[0.4444444444444444,\"#bd3786\"],[0.5555555555555556,\"#d8576b\"],[0.6666666666666666,\"#ed7953\"],[0.7777777777777778,\"#fb9f3a\"],[0.8888888888888888,\"#fdca26\"],[1.0,\"#f0f921\"]]}],\"surface\":[{\"type\":\"surface\",\"colorbar\":{\"outlinewidth\":0,\"ticks\":\"\"},\"colorscale\":[[0.0,\"#0d0887\"],[0.1111111111111111,\"#46039f\"],[0.2222222222222222,\"#7201a8\"],[0.3333333333333333,\"#9c179e\"],[0.4444444444444444,\"#bd3786\"],[0.5555555555555556,\"#d8576b\"],[0.6666666666666666,\"#ed7953\"],[0.7777777777777778,\"#fb9f3a\"],[0.8888888888888888,\"#fdca26\"],[1.0,\"#f0f921\"]]}],\"mesh3d\":[{\"type\":\"mesh3d\",\"colorbar\":{\"outlinewidth\":0,\"ticks\":\"\"}}],\"scatter\":[{\"fillpattern\":{\"fillmode\":\"overlay\",\"size\":10,\"solidity\":0.2},\"type\":\"scatter\"}],\"parcoords\":[{\"type\":\"parcoords\",\"line\":{\"colorbar\":{\"outlinewidth\":0,\"ticks\":\"\"}}}],\"scatterpolargl\":[{\"type\":\"scatterpolargl\",\"marker\":{\"colorbar\":{\"outlinewidth\":0,\"ticks\":\"\"}}}],\"bar\":[{\"error_x\":{\"color\":\"#2a3f5f\"},\"error_y\":{\"color\":\"#2a3f5f\"},\"marker\":{\"line\":{\"color\":\"#E5ECF6\",\"width\":0.5},\"pattern\":{\"fillmode\":\"overlay\",\"size\":10,\"solidity\":0.2}},\"type\":\"bar\"}],\"scattergeo\":[{\"type\":\"scattergeo\",\"marker\":{\"colorbar\":{\"outlinewidth\":0,\"ticks\":\"\"}}}],\"scatterpolar\":[{\"type\":\"scatterpolar\",\"marker\":{\"colorbar\":{\"outlinewidth\":0,\"ticks\":\"\"}}}],\"histogram\":[{\"marker\":{\"pattern\":{\"fillmode\":\"overlay\",\"size\":10,\"solidity\":0.2}},\"type\":\"histogram\"}],\"scattergl\":[{\"type\":\"scattergl\",\"marker\":{\"colorbar\":{\"outlinewidth\":0,\"ticks\":\"\"}}}],\"scatter3d\":[{\"type\":\"scatter3d\",\"line\":{\"colorbar\":{\"outlinewidth\":0,\"ticks\":\"\"}},\"marker\":{\"colorbar\":{\"outlinewidth\":0,\"ticks\":\"\"}}}],\"scattermapbox\":[{\"type\":\"scattermapbox\",\"marker\":{\"colorbar\":{\"outlinewidth\":0,\"ticks\":\"\"}}}],\"scatterternary\":[{\"type\":\"scatterternary\",\"marker\":{\"colorbar\":{\"outlinewidth\":0,\"ticks\":\"\"}}}],\"scattercarpet\":[{\"type\":\"scattercarpet\",\"marker\":{\"colorbar\":{\"outlinewidth\":0,\"ticks\":\"\"}}}],\"carpet\":[{\"aaxis\":{\"endlinecolor\":\"#2a3f5f\",\"gridcolor\":\"white\",\"linecolor\":\"white\",\"minorgridcolor\":\"white\",\"startlinecolor\":\"#2a3f5f\"},\"baxis\":{\"endlinecolor\":\"#2a3f5f\",\"gridcolor\":\"white\",\"linecolor\":\"white\",\"minorgridcolor\":\"white\",\"startlinecolor\":\"#2a3f5f\"},\"type\":\"carpet\"}],\"table\":[{\"cells\":{\"fill\":{\"color\":\"#EBF0F8\"},\"line\":{\"color\":\"white\"}},\"header\":{\"fill\":{\"color\":\"#C8D4E3\"},\"line\":{\"color\":\"white\"}},\"type\":\"table\"}],\"barpolar\":[{\"marker\":{\"line\":{\"color\":\"#E5ECF6\",\"width\":0.5},\"pattern\":{\"fillmode\":\"overlay\",\"size\":10,\"solidity\":0.2}},\"type\":\"barpolar\"}],\"pie\":[{\"automargin\":true,\"type\":\"pie\"}]},\"layout\":{\"autotypenumbers\":\"strict\",\"colorway\":[\"#636efa\",\"#EF553B\",\"#00cc96\",\"#ab63fa\",\"#FFA15A\",\"#19d3f3\",\"#FF6692\",\"#B6E880\",\"#FF97FF\",\"#FECB52\"],\"font\":{\"color\":\"#2a3f5f\"},\"hovermode\":\"closest\",\"hoverlabel\":{\"align\":\"left\"},\"paper_bgcolor\":\"white\",\"plot_bgcolor\":\"#E5ECF6\",\"polar\":{\"bgcolor\":\"#E5ECF6\",\"angularaxis\":{\"gridcolor\":\"white\",\"linecolor\":\"white\",\"ticks\":\"\"},\"radialaxis\":{\"gridcolor\":\"white\",\"linecolor\":\"white\",\"ticks\":\"\"}},\"ternary\":{\"bgcolor\":\"#E5ECF6\",\"aaxis\":{\"gridcolor\":\"white\",\"linecolor\":\"white\",\"ticks\":\"\"},\"baxis\":{\"gridcolor\":\"white\",\"linecolor\":\"white\",\"ticks\":\"\"},\"caxis\":{\"gridcolor\":\"white\",\"linecolor\":\"white\",\"ticks\":\"\"}},\"coloraxis\":{\"colorbar\":{\"outlinewidth\":0,\"ticks\":\"\"}},\"colorscale\":{\"sequential\":[[0.0,\"#0d0887\"],[0.1111111111111111,\"#46039f\"],[0.2222222222222222,\"#7201a8\"],[0.3333333333333333,\"#9c179e\"],[0.4444444444444444,\"#bd3786\"],[0.5555555555555556,\"#d8576b\"],[0.6666666666666666,\"#ed7953\"],[0.7777777777777778,\"#fb9f3a\"],[0.8888888888888888,\"#fdca26\"],[1.0,\"#f0f921\"]],\"sequentialminus\":[[0.0,\"#0d0887\"],[0.1111111111111111,\"#46039f\"],[0.2222222222222222,\"#7201a8\"],[0.3333333333333333,\"#9c179e\"],[0.4444444444444444,\"#bd3786\"],[0.5555555555555556,\"#d8576b\"],[0.6666666666666666,\"#ed7953\"],[0.7777777777777778,\"#fb9f3a\"],[0.8888888888888888,\"#fdca26\"],[1.0,\"#f0f921\"]],\"diverging\":[[0,\"#8e0152\"],[0.1,\"#c51b7d\"],[0.2,\"#de77ae\"],[0.3,\"#f1b6da\"],[0.4,\"#fde0ef\"],[0.5,\"#f7f7f7\"],[0.6,\"#e6f5d0\"],[0.7,\"#b8e186\"],[0.8,\"#7fbc41\"],[0.9,\"#4d9221\"],[1,\"#276419\"]]},\"xaxis\":{\"gridcolor\":\"white\",\"linecolor\":\"white\",\"ticks\":\"\",\"title\":{\"standoff\":15},\"zerolinecolor\":\"white\",\"automargin\":true,\"zerolinewidth\":2},\"yaxis\":{\"gridcolor\":\"white\",\"linecolor\":\"white\",\"ticks\":\"\",\"title\":{\"standoff\":15},\"zerolinecolor\":\"white\",\"automargin\":true,\"zerolinewidth\":2},\"scene\":{\"xaxis\":{\"backgroundcolor\":\"#E5ECF6\",\"gridcolor\":\"white\",\"linecolor\":\"white\",\"showbackground\":true,\"ticks\":\"\",\"zerolinecolor\":\"white\",\"gridwidth\":2},\"yaxis\":{\"backgroundcolor\":\"#E5ECF6\",\"gridcolor\":\"white\",\"linecolor\":\"white\",\"showbackground\":true,\"ticks\":\"\",\"zerolinecolor\":\"white\",\"gridwidth\":2},\"zaxis\":{\"backgroundcolor\":\"#E5ECF6\",\"gridcolor\":\"white\",\"linecolor\":\"white\",\"showbackground\":true,\"ticks\":\"\",\"zerolinecolor\":\"white\",\"gridwidth\":2}},\"shapedefaults\":{\"line\":{\"color\":\"#2a3f5f\"}},\"annotationdefaults\":{\"arrowcolor\":\"#2a3f5f\",\"arrowhead\":0,\"arrowwidth\":1},\"geo\":{\"bgcolor\":\"white\",\"landcolor\":\"#E5ECF6\",\"subunitcolor\":\"white\",\"showland\":true,\"showlakes\":true,\"lakecolor\":\"white\"},\"title\":{\"x\":0.05},\"mapbox\":{\"style\":\"light\"}}}},                        {\"responsive\": true}                    ).then(function(){\n",
       "                            \n",
       "var gd = document.getElementById('c3898894-5f26-448d-83f2-40ed9274f29f');\n",
       "var x = new MutationObserver(function (mutations, observer) {{\n",
       "        var display = window.getComputedStyle(gd).display;\n",
       "        if (!display || display === 'none') {{\n",
       "            console.log([gd, 'removed!']);\n",
       "            Plotly.purge(gd);\n",
       "            observer.disconnect();\n",
       "        }}\n",
       "}});\n",
       "\n",
       "// Listen for the removal of the full notebook cells\n",
       "var notebookContainer = gd.closest('#notebook-container');\n",
       "if (notebookContainer) {{\n",
       "    x.observe(notebookContainer, {childList: true});\n",
       "}}\n",
       "\n",
       "// Listen for the clearing of the current output cell\n",
       "var outputEl = gd.closest('.output');\n",
       "if (outputEl) {{\n",
       "    x.observe(outputEl, {childList: true});\n",
       "}}\n",
       "\n",
       "                        })                };                });            </script>        </div>"
      ]
     },
     "metadata": {},
     "output_type": "display_data"
    }
   ],
   "source": [
    "import plotly.graph_objects as go\n",
    "import random\n",
    "\n",
    "# Helper function to add identifier to regimen names\n",
    "def add_identifier(regimen, identifier):\n",
    "    return regimen + \"_\" + identifier\n",
    "\n",
    "# Grouping data to get counts for each flow\n",
    "induction_counts = cd38_filtered_data['REGIMEN_induction'].value_counts()\n",
    "maintenance_counts = cd38_filtered_data['REGIMEN_maintenance'].value_counts()\n",
    "line2_counts = cd38_filtered_data['REGIMEN'].value_counts()\n",
    "\n",
    "# Counting unique patients for each combination of Induction, Maintenance, and Line 2 regimens\n",
    "combination_counts = cd38_filtered_data.groupby(['REGIMEN_induction', 'REGIMEN_maintenance', 'REGIMEN']).size().reset_index(name='count')\n",
    "\n",
    "# Initializing the lists for the Sankey diagram\n",
    "source = []\n",
    "target = []\n",
    "value = []\n",
    "label = []\n",
    "\n",
    "# Populating the lists for Induction to Maintenance connections\n",
    "for index, row in combination_counts.iterrows():\n",
    "    # Induction\n",
    "    if add_identifier(row['REGIMEN_induction'], \"I\") not in label:\n",
    "        label.append(add_identifier(row['REGIMEN_induction'], \"I\"))\n",
    "    source.append(label.index(add_identifier(row['REGIMEN_induction'], \"I\")))\n",
    "    \n",
    "    # Maintenance\n",
    "    if add_identifier(row['REGIMEN_maintenance'], \"M\") not in label:\n",
    "        label.append(add_identifier(row['REGIMEN_maintenance'], \"M\"))\n",
    "    target.append(label.index(add_identifier(row['REGIMEN_maintenance'], \"M\")))\n",
    "    \n",
    "    # Value\n",
    "    value.append(row['count'])\n",
    "\n",
    "# Populating the lists for Maintenance to Line 2 connections\n",
    "for index, row in combination_counts.iterrows():\n",
    "    # Maintenance\n",
    "    if add_identifier(row['REGIMEN_maintenance'], \"M\") not in label:\n",
    "        label.append(add_identifier(row['REGIMEN_maintenance'], \"M\"))\n",
    "    source.append(label.index(add_identifier(row['REGIMEN_maintenance'], \"M\")))\n",
    "    \n",
    "    # Line 2\n",
    "    if add_identifier(row['REGIMEN'], \"2\") not in label:\n",
    "        label.append(add_identifier(row['REGIMEN'], \"2\"))\n",
    "    target.append(label.index(add_identifier(row['REGIMEN'], \"2\")))\n",
    "    \n",
    "    # Value\n",
    "    value.append(row['count'])\n",
    "\n",
    "# Removing the identifiers for node labels\n",
    "label_clean = [l.split(\"_\")[0] for l in label]\n",
    "\n",
    "# Generate a random color\n",
    "def generate_random_color():\n",
    "    return 'rgba({}, {}, {}, 1)'.format(random.randint(0, 255), \n",
    "                                        random.randint(0, 255), \n",
    "                                        random.randint(0, 255))\n",
    "\n",
    "# Create a color map with random colors for each unique node label\n",
    "color_map = {label: generate_random_color() for label in label_clean}\n",
    "\n",
    "# Determine the colors for nodes based on the color_map\n",
    "node_colors = [color_map[label] for label in label_clean]\n",
    "\n",
    "# Use a loop to determine the color of each link based on its source node\n",
    "link_colors = [node_colors[src] for src in source]\n",
    "\n",
    "# Create the Sankey diagram\n",
    "fig = go.Figure(go.Sankey(\n",
    "    node=dict(\n",
    "        pad=15,\n",
    "        thickness=20,\n",
    "        line=dict(color=\"black\", width=0.5),\n",
    "        label=label_clean,\n",
    "        color=node_colors\n",
    "    ),\n",
    "    link=dict(\n",
    "        source=source,\n",
    "        target=target,\n",
    "        value=value,\n",
    "        color=link_colors\n",
    "    )\n",
    "))\n",
    "\n",
    "fig.update_layout()\n",
    "fig"
   ]
  },
  {
   "cell_type": "code",
   "execution_count": null,
   "metadata": {},
   "outputs": [],
   "source": []
  }
 ],
 "metadata": {
  "kernelspec": {
   "display_name": "Python 3 (ipykernel)",
   "language": "python",
   "name": "python3"
  }
 },
 "nbformat": 4,
 "nbformat_minor": 2
}
